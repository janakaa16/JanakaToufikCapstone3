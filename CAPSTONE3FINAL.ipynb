{
 "cells": [
  {
   "cell_type": "markdown",
   "id": "087ec497-0ec4-4962-86f7-e537ece42136",
   "metadata": {},
   "source": [
    "## Daegu Apartment"
   ]
  },
  {
   "cell_type": "markdown",
   "id": "16b946a3-b81b-479d-80a8-f803b601120f",
   "metadata": {},
   "source": [
    "### **Contents**\n",
    "\n",
    "1. Business Problem Understanding\n",
    "2. Data Understanding\n",
    "3. Data Preprocessing\n",
    "4. Modeling\n",
    "5. Conclusion\n",
    "6. Recommendation\n",
    "\n",
    "****"
   ]
  },
  {
   "cell_type": "markdown",
   "id": "1158492c-2f59-4da6-ae0e-b3e20301b2f0",
   "metadata": {},
   "source": [
    "# 1. Business Problem Understanding"
   ]
  },
  {
   "cell_type": "markdown",
   "id": "f0776d55-a253-4de7-b1e9-5f3dcf023e0f",
   "metadata": {},
   "source": [
    "### 1.1 Context"
   ]
  },
  {
   "cell_type": "markdown",
   "id": "9a7c6bcb-c74f-4545-81b2-b9fe5aa0ec43",
   "metadata": {},
   "source": [
    "Daegu adalah kota terbesar peringkat 3 di Korea Selatan setelah Seoul dan Busan dan kota di Korea Selatan dengan jumlah penduduk terbanyak peringkat 4 dengan lebih dari 2.5 juta penduduk. Korea Selatan sering dijuluki sebagai \"The Republic of Apartments\" karena berdasarkan penelitian pada tahun 2019 bahwa Korea Selatan memiliki sekitar 11.3 juta apartemen yaitu 62.3 % dari semua perumahan dan sekitar 6 dari 10 penduduk Korea Selatan tinggal di apartemen [1]. Karena penduduk Korea Selatan sangat bergantung kepada apartemen maka menetapkan harga yang sesuai itu sangat penting. Karena banyak pemilik apartemen memercayakan apartemen mereka kepada properti agent untuk transaksi, maka properti agent harus dapat menentukan harga apartemen yang sesuai berdasarkan fasilitas, lokasi, dan fitur-fitur lain."
   ]
  },
  {
   "cell_type": "markdown",
   "id": "489f147e-2846-413f-b6f9-7bb63133ffc8",
   "metadata": {},
   "source": [
    "### 1.2 Problem Statement "
   ]
  },
  {
   "cell_type": "markdown",
   "id": "5436da83-42d9-4748-a255-e5d8b92c281a",
   "metadata": {},
   "source": [
    "**The Problem** : Karena demand untuk apartemen di Korea Selatan sangat tinggi, maka properti agent perlu meningkatkan efisiensinya agar proses untuk penentuan harga dapat lebih cepat dan juga mengurangi pengeluaran-pengeluaran lainnya dan mendapatkan profit sebesar mungkin.\n",
    "\n",
    "**The Proposed Solution** : Untuk itu kita dapat mengimpelementasikan berbagai model machine learning agar dapat memprediksi harga-harga apartemen berdasarkan fitur-fiturnya.\n",
    "\n",
    "**Why The Solution Fixes the Problem** : Dengan menggunakan model machine learning, proses untuk menentukan harga dari jutaan apartemen di Korea Selatan yang dapat memakan waktu lama dapat diselesaikan dengan lebih cepat dan efisien dengan menggunakan machine learning."
   ]
  },
  {
   "cell_type": "markdown",
   "id": "d4e04596-3ff5-48a7-8231-eba06f226001",
   "metadata": {},
   "source": [
    "### 1.3 Goals"
   ]
  },
  {
   "cell_type": "markdown",
   "id": "8914e490-0e60-4cd2-bca8-d944a2c144f8",
   "metadata": {},
   "source": [
    "Tujuan dari pembuatan model machine learning kali ini adalah untuk memprediksi harga dari apartemen berdasarkan fitur-fitur yang terdapat pada dataset. Model akhir yang diperloeh diharapkan agar dapat digunakan oleh properti agent untuk memprediksi dan menentukan harga apartemen yang seusai agar tetap kompetitif dan dapat menghasilkan profit."
   ]
  },
  {
   "cell_type": "markdown",
   "id": "7923f844-46df-420b-954a-7b1e63f37e3b",
   "metadata": {},
   "source": [
    "### 1.4 Analytic Approach"
   ]
  },
  {
   "cell_type": "markdown",
   "id": "1737ed2d-b4f9-4742-942d-c3ed663d6baf",
   "metadata": {},
   "source": [
    "Yang pertama dilakukan adalah melakukan EDA singkat untuk mengetahui fitur-fitur apa yang memengaruhi harga dari apartemen, terutama fitur yang memiliki korelasi tinggi dengan harga. Lalu kita akan membersihkan data dengan mengisi missing value dan membuang kolom-kolom yang tidak dipakai untuk fitur. Lalu akan dibuat model regresi yang dapat digunakan untuk memprediksi harga apartemen berdasarkan fitur-fitur yang terpilih."
   ]
  },
  {
   "cell_type": "markdown",
   "id": "bfe51742-8f8e-4b99-b10b-dc9545ee23ac",
   "metadata": {},
   "source": [
    "### 1.5 Metric Evaluation "
   ]
  },
  {
   "cell_type": "markdown",
   "id": "3a2156ca-ab84-4d64-9db0-c28e752eff6e",
   "metadata": {},
   "source": [
    "Metric evaluation yang akan digunakan adalah R2, MAE, dan MAPE karena tipe data adalah regresi. R2 atau rsquared digunakan untuk mengetahui berapa persen variansi data yang dapat dijelaskan oleh model (semakin besar semakin baik). MAE atau mean absolute error digunakan untuk mencari residual, yaitu y-ypred (actual sales - prediction sales) dan baik digunakan jika variansi pada data target pada kasus ini sales price kecil dan terdapat outliers. Dan MAPE atau Mean Absolute Percentage error digunakan untuk mencari relative error dan dapat digunakan untuk menjelaskan deviasi dari model (harga prediksi berapa % lebih besar atau kecil dari harga sesungguhnya). MAPE juga sering digunakan untuk memprediksi harga rumah,apartemen atau hal-hal yang distribusi harganya skew ke kanan, dan MAPE juga tidak terlalu terpengaruh kepada outliers"
   ]
  },
  {
   "cell_type": "markdown",
   "id": "e11171fa-f72a-40b2-8380-3d0977bfa640",
   "metadata": {},
   "source": [
    "# 2. Data Understanding\n",
    "Pada bagian ini akan dicari informasi dari dataset seperti penjelasan dari setiap kolom dan EDA singkat."
   ]
  },
  {
   "cell_type": "code",
   "execution_count": 1,
   "id": "68cb03ed-0d0f-43eb-8fc8-05db85a368ca",
   "metadata": {},
   "outputs": [],
   "source": [
    "# import library\n",
    "import pandas as pd\n",
    "import numpy as np\n",
    "import seaborn as sns\n",
    "import matplotlib.pyplot as plt"
   ]
  },
  {
   "cell_type": "code",
   "execution_count": 2,
   "id": "0163f47c-e5b6-46ca-99a8-085ce77b1fa4",
   "metadata": {},
   "outputs": [
    {
     "data": {
      "text/html": [
       "<div>\n",
       "<style scoped>\n",
       "    .dataframe tbody tr th:only-of-type {\n",
       "        vertical-align: middle;\n",
       "    }\n",
       "\n",
       "    .dataframe tbody tr th {\n",
       "        vertical-align: top;\n",
       "    }\n",
       "\n",
       "    .dataframe thead th {\n",
       "        text-align: right;\n",
       "    }\n",
       "</style>\n",
       "<table border=\"1\" class=\"dataframe\">\n",
       "  <thead>\n",
       "    <tr style=\"text-align: right;\">\n",
       "      <th></th>\n",
       "      <th>HallwayType</th>\n",
       "      <th>TimeToSubway</th>\n",
       "      <th>SubwayStation</th>\n",
       "      <th>N_FacilitiesNearBy(ETC)</th>\n",
       "      <th>N_FacilitiesNearBy(PublicOffice)</th>\n",
       "      <th>N_SchoolNearBy(University)</th>\n",
       "      <th>N_Parkinglot(Basement)</th>\n",
       "      <th>YearBuilt</th>\n",
       "      <th>N_FacilitiesInApt</th>\n",
       "      <th>Size(sqf)</th>\n",
       "      <th>SalePrice</th>\n",
       "    </tr>\n",
       "  </thead>\n",
       "  <tbody>\n",
       "    <tr>\n",
       "      <th>0</th>\n",
       "      <td>terraced</td>\n",
       "      <td>0-5min</td>\n",
       "      <td>Kyungbuk_uni_hospital</td>\n",
       "      <td>0.0</td>\n",
       "      <td>3.0</td>\n",
       "      <td>2.0</td>\n",
       "      <td>1270.0</td>\n",
       "      <td>2007</td>\n",
       "      <td>10</td>\n",
       "      <td>1387</td>\n",
       "      <td>346017</td>\n",
       "    </tr>\n",
       "    <tr>\n",
       "      <th>1</th>\n",
       "      <td>terraced</td>\n",
       "      <td>10min~15min</td>\n",
       "      <td>Kyungbuk_uni_hospital</td>\n",
       "      <td>1.0</td>\n",
       "      <td>5.0</td>\n",
       "      <td>1.0</td>\n",
       "      <td>0.0</td>\n",
       "      <td>1986</td>\n",
       "      <td>4</td>\n",
       "      <td>914</td>\n",
       "      <td>150442</td>\n",
       "    </tr>\n",
       "    <tr>\n",
       "      <th>2</th>\n",
       "      <td>mixed</td>\n",
       "      <td>15min~20min</td>\n",
       "      <td>Chil-sung-market</td>\n",
       "      <td>1.0</td>\n",
       "      <td>7.0</td>\n",
       "      <td>3.0</td>\n",
       "      <td>56.0</td>\n",
       "      <td>1997</td>\n",
       "      <td>5</td>\n",
       "      <td>558</td>\n",
       "      <td>61946</td>\n",
       "    </tr>\n",
       "    <tr>\n",
       "      <th>3</th>\n",
       "      <td>mixed</td>\n",
       "      <td>5min~10min</td>\n",
       "      <td>Bangoge</td>\n",
       "      <td>5.0</td>\n",
       "      <td>5.0</td>\n",
       "      <td>4.0</td>\n",
       "      <td>798.0</td>\n",
       "      <td>2005</td>\n",
       "      <td>7</td>\n",
       "      <td>914</td>\n",
       "      <td>165486</td>\n",
       "    </tr>\n",
       "    <tr>\n",
       "      <th>4</th>\n",
       "      <td>terraced</td>\n",
       "      <td>0-5min</td>\n",
       "      <td>Sin-nam</td>\n",
       "      <td>0.0</td>\n",
       "      <td>1.0</td>\n",
       "      <td>2.0</td>\n",
       "      <td>536.0</td>\n",
       "      <td>2006</td>\n",
       "      <td>5</td>\n",
       "      <td>1743</td>\n",
       "      <td>311504</td>\n",
       "    </tr>\n",
       "  </tbody>\n",
       "</table>\n",
       "</div>"
      ],
      "text/plain": [
       "  HallwayType TimeToSubway          SubwayStation  N_FacilitiesNearBy(ETC)  \\\n",
       "0    terraced       0-5min  Kyungbuk_uni_hospital                      0.0   \n",
       "1    terraced  10min~15min  Kyungbuk_uni_hospital                      1.0   \n",
       "2       mixed  15min~20min       Chil-sung-market                      1.0   \n",
       "3       mixed   5min~10min                Bangoge                      5.0   \n",
       "4    terraced       0-5min                Sin-nam                      0.0   \n",
       "\n",
       "   N_FacilitiesNearBy(PublicOffice)  N_SchoolNearBy(University)  \\\n",
       "0                               3.0                         2.0   \n",
       "1                               5.0                         1.0   \n",
       "2                               7.0                         3.0   \n",
       "3                               5.0                         4.0   \n",
       "4                               1.0                         2.0   \n",
       "\n",
       "   N_Parkinglot(Basement)  YearBuilt  N_FacilitiesInApt  Size(sqf)  SalePrice  \n",
       "0                  1270.0       2007                 10       1387     346017  \n",
       "1                     0.0       1986                  4        914     150442  \n",
       "2                    56.0       1997                  5        558      61946  \n",
       "3                   798.0       2005                  7        914     165486  \n",
       "4                   536.0       2006                  5       1743     311504  "
      ]
     },
     "execution_count": 2,
     "metadata": {},
     "output_type": "execute_result"
    }
   ],
   "source": [
    "df = pd.read_csv('data_daegu_apartment.csv')\n",
    "df.head()"
   ]
  },
  {
   "cell_type": "markdown",
   "id": "542dc856-2055-4f78-90f9-650eac7956c1",
   "metadata": {},
   "source": [
    "Data diatas adalah data apartemen dari kota Daegu Korea Selatan selama periode 10 tahun beserta berbagai fitur-fiturnya. Data diatas didapat dari API yang disediakan oleh **data.go.kr**"
   ]
  },
  {
   "cell_type": "markdown",
   "id": "807e86a7-ae75-47cc-ac98-cf0a06314f69",
   "metadata": {},
   "source": [
    "**Attributes Information**\n",
    "\n",
    "| **Attribute** | **Data Type** | **Description** |\n",
    "| --- | --- | --- |\n",
    "| HallwayType | Object | Type of hallway |\n",
    "| TimeToSubway | Object | Time it takes to get to the subway |\n",
    "| SubwayStation | Object | Nearest subway station  |\n",
    "| N_FacilitiesNearBy(ETC) | Float | Number of Facilities nearby |\n",
    "| N_FacilitiesNearBy(PublicOffice) | Float | Number of public offices nearby |\n",
    "| N_SchoolNearBy(University) | Float | Number of univesities nearby |\n",
    "| N_Parkinglot(Basement) | Float | Basement parking capacity  |\n",
    "| n_FacilitiesInApt | Integer | Number of facilities in apartment |\n",
    "| YearBuild | Integer | Year apartment was built |\n",
    "| Size(sqf) | Integer | Size of apartment in squarefoot |\n",
    "| SalePrice | Integer | Price of apartment |\n",
    "\n",
    "<br>"
   ]
  },
  {
   "cell_type": "markdown",
   "id": "b7d954af-7246-4096-8965-a0bfc7a6fac6",
   "metadata": {},
   "source": [
    "### 2.1 EDA\n",
    "Pada bagian ini akan dilakukan exploratory data analysis pada data untuk mengetahui karakteristik dari data."
   ]
  },
  {
   "cell_type": "code",
   "execution_count": 3,
   "id": "2688b5f8-d847-4631-889c-8debb28c3693",
   "metadata": {},
   "outputs": [
    {
     "name": "stderr",
     "output_type": "stream",
     "text": [
      "C:\\Users\\HP\\anaconda3\\lib\\site-packages\\seaborn\\distributions.py:2619: FutureWarning: `distplot` is a deprecated function and will be removed in a future version. Please adapt your code to use either `displot` (a figure-level function with similar flexibility) or `histplot` (an axes-level function for histograms).\n",
      "  warnings.warn(msg, FutureWarning)\n"
     ]
    },
    {
     "data": {
      "image/png": "[encoded data removed]",
      "text/plain": [
       "<Figure size 504x504 with 1 Axes>"
      ]
     },
     "metadata": {
      "needs_background": "light"
     },
     "output_type": "display_data"
    }
   ],
   "source": [
    "plt.figure(figsize=(7, 7))\n",
    "sns.distplot(df['SalePrice'])\n",
    "plt.title('Price Distribution Plot', size=15, weight='bold');"
   ]
  },
  {
   "cell_type": "markdown",
   "id": "02719843-bf5c-4d0c-96bb-f0645e5f6265",
   "metadata": {},
   "source": [
    "Berdasarkan plot distribusi diatas kurang jelas apakah price berdistribusi normal dengan hanya sedikit outliers atau right-skewed. Oleh karena itu akan dilakukan uji hipotesis normality test untuk memastikan."
   ]
  },
  {
   "cell_type": "code",
   "execution_count": 4,
   "id": "49c870eb-3039-4684-822f-01920c662020",
   "metadata": {},
   "outputs": [
    {
     "name": "stdout",
     "output_type": "stream",
     "text": [
      "P-Value: 3.212361214154562e-35. Asumsi tidak terdistribusi normal\n"
     ]
    }
   ],
   "source": [
    "from scipy.stats import normaltest\n",
    "\n",
    "dp_statistics, dp_pvalue = normaltest(df['SalePrice'])\n",
    "if dp_pvalue > 0.05:\n",
    "    print(f'P-Value: {dp_pvalue}. Asumsi terdistribusi normal')\n",
    "else:\n",
    "    print(f'P-Value: {dp_pvalue}. Asumsi tidak terdistribusi normal')\n"
   ]
  },
  {
   "cell_type": "markdown",
   "id": "bd1841e3-a9da-40ba-b6a4-ea2962df9405",
   "metadata": {},
   "source": [
    "Berdasarkan hasil uji hipotesis ternyata data tidak terdistribusi normal, maka price dari appartment right skewed"
   ]
  },
  {
   "cell_type": "markdown",
   "id": "05b630de-3f4a-4d48-9cc9-8869bb3ca7d8",
   "metadata": {},
   "source": [
    "Lalu akan diperiksa apakah terdapat outliers pada kolom price dan size karena kedua kolom tersebut cukup relevan."
   ]
  },
  {
   "cell_type": "code",
   "execution_count": 5,
   "id": "8ba77344-1219-468c-8d22-9923de4efcfd",
   "metadata": {},
   "outputs": [
    {
     "data": {
      "text/plain": [
       "<AxesSubplot:xlabel='SalePrice'>"
      ]
     },
     "execution_count": 5,
     "metadata": {},
     "output_type": "execute_result"
    },
    {
     "data": {
      "image/png": "[encoded data removed]",
      "text/plain": [
       "<Figure size 432x288 with 1 Axes>"
      ]
     },
     "metadata": {
      "needs_background": "light"
     },
     "output_type": "display_data"
    }
   ],
   "source": [
    "# Cek outliers pada kolom price\n",
    "sns.boxplot(x = 'SalePrice', data = df)"
   ]
  },
  {
   "cell_type": "markdown",
   "id": "cb5ad286-10b4-4358-ae16-01a28d2de336",
   "metadata": {},
   "source": [
    "Berdasarkan visualisasi diatas ternyata terdapat beberapa outliers pada kolom price. Ini cukup masuk akal karena pada umumnya harga dari apartemen memiliki rentang yang besar karena terdapat apartemen yang sangat mahal."
   ]
  },
  {
   "cell_type": "code",
   "execution_count": 6,
   "id": "a480b082-f95a-4013-8009-c1d313300535",
   "metadata": {},
   "outputs": [
    {
     "name": "stdout",
     "output_type": "stream",
     "text": [
      "max =  585840 , min=  32743 , range =  553097\n"
     ]
    }
   ],
   "source": [
    "print('max = ', df['SalePrice'].max(), ', min= ',df['SalePrice'].min(), ', range = ', df['SalePrice'].max()-df['SalePrice'].min() )"
   ]
  },
  {
   "cell_type": "markdown",
   "id": "341e6c71-7ac1-4659-ad1e-ea608f2fc6b8",
   "metadata": {},
   "source": [
    "Harga apartemen paling mahal pada data adalah 585840, paling kecil adalah 32743, sehingga range atau rentangnya adalah 553097"
   ]
  },
  {
   "cell_type": "code",
   "execution_count": 7,
   "id": "9e32fa76-0b5d-4fe9-a4eb-c64cdec4aa4c",
   "metadata": {},
   "outputs": [
    {
     "data": {
      "text/plain": [
       "<AxesSubplot:xlabel='Size(sqf)'>"
      ]
     },
     "execution_count": 7,
     "metadata": {},
     "output_type": "execute_result"
    },
    {
     "data": {
      "image/png": "[encoded data removed]",
      "text/plain": [
       "<Figure size 432x288 with 1 Axes>"
      ]
     },
     "metadata": {
      "needs_background": "light"
     },
     "output_type": "display_data"
    }
   ],
   "source": [
    "sns.boxplot(x = 'Size(sqf)', data = df)"
   ]
  },
  {
   "cell_type": "markdown",
   "id": "3487b8ec-1070-47a7-b81c-0e2ebd7770a3",
   "metadata": {},
   "source": [
    "Berdasarkan visualisasi di atas ternyata kolom size memiliki outliers. Ini berarti ada apartemen dengan ukuran yang jauh lebih besar daripada apartemen lain."
   ]
  },
  {
   "cell_type": "code",
   "execution_count": 8,
   "id": "7cfbf980-55a0-49ee-b12f-42290441cbb3",
   "metadata": {},
   "outputs": [
    {
     "data": {
      "text/plain": [
       "2015"
      ]
     },
     "execution_count": 8,
     "metadata": {},
     "output_type": "execute_result"
    }
   ],
   "source": [
    "df['YearBuilt'].max()"
   ]
  },
  {
   "cell_type": "markdown",
   "id": "1bbcc18d-7457-4286-b513-10a06a9e4bbe",
   "metadata": {},
   "source": [
    "Dapat dilihat bahwa apartemen terjual yang dibangun paling baru adalah apartemen pada tahun 2015. Karena kita tahu berdasarkan https://www.kaggle.com/datasets/gunhee/koreahousedata/versions/1 dan **data.go.kr** (sumber data) bahwa data tersebut adalah selama periode 10 tahun, maka kita dapat **estimasi bahwa dataset ini dibuat sekitar tahun 2004-2005.**"
   ]
  },
  {
   "cell_type": "markdown",
   "id": "876678be-72a1-4f09-af56-8b5fc5415b71",
   "metadata": {},
   "source": [
    "Selanjutnya akan dicari korelasi dari dataset untuk mengetahui fitur-fitur apa yang memengaruhi price"
   ]
  },
  {
   "cell_type": "code",
   "execution_count": 9,
   "id": "162447a2-d5fe-48fd-900e-b76a24e0da3c",
   "metadata": {},
   "outputs": [
    {
     "data": {
      "image/png": "[encoded data removed]",
      "text/plain": [
       "<Figure size 720x720 with 2 Axes>"
      ]
     },
     "metadata": {
      "needs_background": "light"
     },
     "output_type": "display_data"
    }
   ],
   "source": [
    "plt.figure(figsize=(10, 10))\n",
    "palette=sns.diverging_palette(20, 220, n=256)\n",
    "corr = df.corr(method='spearman')\n",
    "sns.heatmap(corr, annot=True, fmt='.2f', cmap=palette, square=True, linewidths=.5)\n",
    "plt.title('Correlation Matrix', size=15, weight='bold');\n",
    "plt.savefig('svm_confasd.png', dpi=400)"
   ]
  },
  {
   "cell_type": "markdown",
   "id": "c91ba628-c97a-42ec-b0e7-f233133ee6d3",
   "metadata": {},
   "source": [
    "Berikut adalah ranking korelasi antara berbagai kolom numerik dengan price:\n",
    "1. Size(sqf), korelasi kuat\n",
    "2. N_FacilitiesInApt, korelasi sedang\n",
    "3. N_FacilitiesNearBy(ETC), korelasi sedang\n",
    "4. YearBuilt, korelasi sedang\n",
    "5. N_FacilitiesNearBy(PublicOffice), korelasi sedang\n",
    "6. N_Parkinglot(Basement), korelasi sedang\n",
    "7. N_SchoolNearBy(University), korelasi sedang\n",
    "\n",
    "Kolom kolom diatas dapat memprediksi sales price karena memiliki korelasi sedang hingga kuat."
   ]
  },
  {
   "cell_type": "code",
   "execution_count": 10,
   "id": "b662b2b8-0897-4c4b-8fe4-547b043f500b",
   "metadata": {},
   "outputs": [
    {
     "data": {
      "text/plain": [
       "terraced    2528\n",
       "mixed       1131\n",
       "corridor     464\n",
       "Name: HallwayType, dtype: int64"
      ]
     },
     "execution_count": 10,
     "metadata": {},
     "output_type": "execute_result"
    }
   ],
   "source": [
    "df['HallwayType'].value_counts()"
   ]
  },
  {
   "cell_type": "markdown",
   "id": "23ec27d8-ade8-4d4a-b43f-daeee5c28848",
   "metadata": {},
   "source": [
    "Terlihat bahwa jumlah apartemen dengan koridor type terraced paling banyak "
   ]
  },
  {
   "cell_type": "code",
   "execution_count": 11,
   "id": "1e426b83-6f34-4fe2-922e-e657128fb823",
   "metadata": {},
   "outputs": [
    {
     "data": {
      "text/html": [
       "<div>\n",
       "<style scoped>\n",
       "    .dataframe tbody tr th:only-of-type {\n",
       "        vertical-align: middle;\n",
       "    }\n",
       "\n",
       "    .dataframe tbody tr th {\n",
       "        vertical-align: top;\n",
       "    }\n",
       "\n",
       "    .dataframe thead th {\n",
       "        text-align: right;\n",
       "    }\n",
       "</style>\n",
       "<table border=\"1\" class=\"dataframe\">\n",
       "  <thead>\n",
       "    <tr style=\"text-align: right;\">\n",
       "      <th>col_0</th>\n",
       "      <th>median price</th>\n",
       "    </tr>\n",
       "    <tr>\n",
       "      <th>HallwayType</th>\n",
       "      <th></th>\n",
       "    </tr>\n",
       "  </thead>\n",
       "  <tbody>\n",
       "    <tr>\n",
       "      <th>terraced</th>\n",
       "      <td>264601</td>\n",
       "    </tr>\n",
       "    <tr>\n",
       "      <th>mixed</th>\n",
       "      <td>153539</td>\n",
       "    </tr>\n",
       "    <tr>\n",
       "      <th>corridor</th>\n",
       "      <td>74557</td>\n",
       "    </tr>\n",
       "  </tbody>\n",
       "</table>\n",
       "</div>"
      ],
      "text/plain": [
       "col_0        median price\n",
       "HallwayType              \n",
       "terraced           264601\n",
       "mixed              153539\n",
       "corridor            74557"
      ]
     },
     "execution_count": 11,
     "metadata": {},
     "output_type": "execute_result"
    }
   ],
   "source": [
    "pd.crosstab(index = df['HallwayType'],\n",
    "           columns = 'median price',\n",
    "           values = df['SalePrice'],\n",
    "           aggfunc = 'median').round(2).sort_values(by='median price', ascending=False)"
   ]
  },
  {
   "cell_type": "markdown",
   "id": "f236cbc0-edd4-4558-84f6-40fec60657b5",
   "metadata": {},
   "source": [
    "Ternyata apartemen dengan hallway type terraced memiliki median harga yang paling besar, lalu diikuti oleh mixed dan terakhir corridor"
   ]
  },
  {
   "cell_type": "code",
   "execution_count": 12,
   "id": "da9ed54a-fce4-40c4-9cb1-8e3525692f21",
   "metadata": {},
   "outputs": [
    {
     "data": {
      "text/plain": [
       "0-5min                1953\n",
       "5min~10min             787\n",
       "15min~20min            629\n",
       "10min~15min            583\n",
       "no_bus_stop_nearby     171\n",
       "Name: TimeToSubway, dtype: int64"
      ]
     },
     "execution_count": 12,
     "metadata": {},
     "output_type": "execute_result"
    }
   ],
   "source": [
    "df['TimeToSubway'].value_counts()"
   ]
  },
  {
   "cell_type": "code",
   "execution_count": 13,
   "id": "2344bb10-0b20-4dfa-89af-cda60b6dd86b",
   "metadata": {},
   "outputs": [
    {
     "data": {
      "text/html": [
       "<div>\n",
       "<style scoped>\n",
       "    .dataframe tbody tr th:only-of-type {\n",
       "        vertical-align: middle;\n",
       "    }\n",
       "\n",
       "    .dataframe tbody tr th {\n",
       "        vertical-align: top;\n",
       "    }\n",
       "\n",
       "    .dataframe thead th {\n",
       "        text-align: right;\n",
       "    }\n",
       "</style>\n",
       "<table border=\"1\" class=\"dataframe\">\n",
       "  <thead>\n",
       "    <tr style=\"text-align: right;\">\n",
       "      <th>col_0</th>\n",
       "      <th>median price</th>\n",
       "    </tr>\n",
       "    <tr>\n",
       "      <th>TimeToSubway</th>\n",
       "      <th></th>\n",
       "    </tr>\n",
       "  </thead>\n",
       "  <tbody>\n",
       "    <tr>\n",
       "      <th>0-5min</th>\n",
       "      <td>279646</td>\n",
       "    </tr>\n",
       "    <tr>\n",
       "      <th>no_bus_stop_nearby</th>\n",
       "      <td>203646</td>\n",
       "    </tr>\n",
       "    <tr>\n",
       "      <th>10min~15min</th>\n",
       "      <td>159292</td>\n",
       "    </tr>\n",
       "    <tr>\n",
       "      <th>5min~10min</th>\n",
       "      <td>153539</td>\n",
       "    </tr>\n",
       "    <tr>\n",
       "      <th>15min~20min</th>\n",
       "      <td>138938</td>\n",
       "    </tr>\n",
       "  </tbody>\n",
       "</table>\n",
       "</div>"
      ],
      "text/plain": [
       "col_0               median price\n",
       "TimeToSubway                    \n",
       "0-5min                    279646\n",
       "no_bus_stop_nearby        203646\n",
       "10min~15min               159292\n",
       "5min~10min                153539\n",
       "15min~20min               138938"
      ]
     },
     "execution_count": 13,
     "metadata": {},
     "output_type": "execute_result"
    }
   ],
   "source": [
    "pd.crosstab(index = df['TimeToSubway'],\n",
    "           columns = 'median price',\n",
    "           values = df['SalePrice'],\n",
    "           aggfunc = 'median').round(2).sort_values(by='median price', ascending=False)"
   ]
  },
  {
   "cell_type": "markdown",
   "id": "3b70fe29-4171-41c2-be5c-05c03f67a413",
   "metadata": {},
   "source": [
    "Terlihat bahwa apartemen yang median harga paling tinggi adalah apartemen yang jaraknya menuju subway paling dekat"
   ]
  },
  {
   "cell_type": "code",
   "execution_count": 14,
   "id": "a6534679-8bbb-4d14-8b5b-dbbb4f3949cc",
   "metadata": {},
   "outputs": [
    {
     "data": {
      "text/plain": [
       "Kyungbuk_uni_hospital    1152\n",
       "Myung-duk                1044\n",
       "Banwoldang                529\n",
       "Bangoge                   502\n",
       "Sin-nam                   467\n",
       "no_subway_nearby          290\n",
       "Chil-sung-market           74\n",
       "Daegu                      65\n",
       "Name: SubwayStation, dtype: int64"
      ]
     },
     "execution_count": 14,
     "metadata": {},
     "output_type": "execute_result"
    }
   ],
   "source": [
    "df['SubwayStation'].value_counts()"
   ]
  },
  {
   "cell_type": "markdown",
   "id": "ea52d66b-3a08-41ec-85f8-46bbc51e887c",
   "metadata": {},
   "source": [
    "Telihat bahwa dekat stasiun Kyungbuk Uni Hospital memiliki jumlah apartemen paling banyak"
   ]
  },
  {
   "cell_type": "code",
   "execution_count": 15,
   "id": "1e600f5e-6f19-48ca-b5e0-7222f7edcaa7",
   "metadata": {},
   "outputs": [
    {
     "data": {
      "text/html": [
       "<div>\n",
       "<style scoped>\n",
       "    .dataframe tbody tr th:only-of-type {\n",
       "        vertical-align: middle;\n",
       "    }\n",
       "\n",
       "    .dataframe tbody tr th {\n",
       "        vertical-align: top;\n",
       "    }\n",
       "\n",
       "    .dataframe thead th {\n",
       "        text-align: right;\n",
       "    }\n",
       "</style>\n",
       "<table border=\"1\" class=\"dataframe\">\n",
       "  <thead>\n",
       "    <tr style=\"text-align: right;\">\n",
       "      <th>col_0</th>\n",
       "      <th>median price</th>\n",
       "    </tr>\n",
       "    <tr>\n",
       "      <th>SubwayStation</th>\n",
       "      <th></th>\n",
       "    </tr>\n",
       "  </thead>\n",
       "  <tbody>\n",
       "    <tr>\n",
       "      <th>Banwoldang</th>\n",
       "      <td>315929.0</td>\n",
       "    </tr>\n",
       "    <tr>\n",
       "      <th>Sin-nam</th>\n",
       "      <td>247787.0</td>\n",
       "    </tr>\n",
       "    <tr>\n",
       "      <th>Kyungbuk_uni_hospital</th>\n",
       "      <td>238938.0</td>\n",
       "    </tr>\n",
       "    <tr>\n",
       "      <th>no_subway_nearby</th>\n",
       "      <td>207743.0</td>\n",
       "    </tr>\n",
       "    <tr>\n",
       "      <th>Bangoge</th>\n",
       "      <td>167035.0</td>\n",
       "    </tr>\n",
       "    <tr>\n",
       "      <th>Myung-duk</th>\n",
       "      <td>154424.5</td>\n",
       "    </tr>\n",
       "    <tr>\n",
       "      <th>Chil-sung-market</th>\n",
       "      <td>88495.0</td>\n",
       "    </tr>\n",
       "    <tr>\n",
       "      <th>Daegu</th>\n",
       "      <td>86725.0</td>\n",
       "    </tr>\n",
       "  </tbody>\n",
       "</table>\n",
       "</div>"
      ],
      "text/plain": [
       "col_0                  median price\n",
       "SubwayStation                      \n",
       "Banwoldang                 315929.0\n",
       "Sin-nam                    247787.0\n",
       "Kyungbuk_uni_hospital      238938.0\n",
       "no_subway_nearby           207743.0\n",
       "Bangoge                    167035.0\n",
       "Myung-duk                  154424.5\n",
       "Chil-sung-market            88495.0\n",
       "Daegu                       86725.0"
      ]
     },
     "execution_count": 15,
     "metadata": {},
     "output_type": "execute_result"
    }
   ],
   "source": [
    "pd.crosstab(index = df['SubwayStation'],\n",
    "           columns = 'median price',\n",
    "           values = df['SalePrice'],\n",
    "           aggfunc = 'median').round(2).sort_values(by='median price', ascending=False)"
   ]
  },
  {
   "cell_type": "markdown",
   "id": "dec96b86-0a5a-4080-a4ae-52b54475c545",
   "metadata": {},
   "source": [
    "Pada tabel diatas dapat dilihat bahwa apartemen dekat stasiun Banwoldang memiliki median harga paling tinggi."
   ]
  },
  {
   "cell_type": "markdown",
   "id": "9913ae84-6d36-4874-b6f3-2abce9c1a5a3",
   "metadata": {},
   "source": [
    "# 3. Data Preprocessing"
   ]
  },
  {
   "cell_type": "markdown",
   "id": "1f1de80c-5811-4746-9d57-0a62a12d15d7",
   "metadata": {},
   "source": [
    "Pada bagian ini akan dilakukan preprocessing seperti mengisi missing value, menghapus data duplikat , melihat outliers dan membuang fitur-fitur yang tidak memengaruhi sales agar mendapatkan dataset yang siap untuk dimasukan ke dalam model."
   ]
  },
  {
   "cell_type": "markdown",
   "id": "7f65eec9-3d02-4711-9af5-1dde61f3c5db",
   "metadata": {},
   "source": [
    "**Missing Value**"
   ]
  },
  {
   "cell_type": "code",
   "execution_count": 16,
   "id": "54de206e-7158-47eb-9620-5d3575348fa3",
   "metadata": {},
   "outputs": [
    {
     "data": {
      "text/plain": [
       "HallwayType                         0\n",
       "TimeToSubway                        0\n",
       "SubwayStation                       0\n",
       "N_FacilitiesNearBy(ETC)             0\n",
       "N_FacilitiesNearBy(PublicOffice)    0\n",
       "N_SchoolNearBy(University)          0\n",
       "N_Parkinglot(Basement)              0\n",
       "YearBuilt                           0\n",
       "N_FacilitiesInApt                   0\n",
       "Size(sqf)                           0\n",
       "SalePrice                           0\n",
       "dtype: int64"
      ]
     },
     "execution_count": 16,
     "metadata": {},
     "output_type": "execute_result"
    }
   ],
   "source": [
    "df.isna().sum()"
   ]
  },
  {
   "cell_type": "code",
   "execution_count": 17,
   "id": "064d1c0c-dc0c-4088-aa71-1ef6092fef50",
   "metadata": {},
   "outputs": [
    {
     "data": {
      "text/html": [
       "<div>\n",
       "<style scoped>\n",
       "    .dataframe tbody tr th:only-of-type {\n",
       "        vertical-align: middle;\n",
       "    }\n",
       "\n",
       "    .dataframe tbody tr th {\n",
       "        vertical-align: top;\n",
       "    }\n",
       "\n",
       "    .dataframe thead th {\n",
       "        text-align: right;\n",
       "    }\n",
       "</style>\n",
       "<table border=\"1\" class=\"dataframe\">\n",
       "  <thead>\n",
       "    <tr style=\"text-align: right;\">\n",
       "      <th></th>\n",
       "      <th>dataFeatures</th>\n",
       "      <th>dataType</th>\n",
       "      <th>null</th>\n",
       "      <th>nullPct</th>\n",
       "      <th>unique</th>\n",
       "      <th>uniqueSample</th>\n",
       "    </tr>\n",
       "  </thead>\n",
       "  <tbody>\n",
       "    <tr>\n",
       "      <th>0</th>\n",
       "      <td>HallwayType</td>\n",
       "      <td>object</td>\n",
       "      <td>0</td>\n",
       "      <td>0.0</td>\n",
       "      <td>3</td>\n",
       "      <td>[terraced, corridor]</td>\n",
       "    </tr>\n",
       "    <tr>\n",
       "      <th>1</th>\n",
       "      <td>TimeToSubway</td>\n",
       "      <td>object</td>\n",
       "      <td>0</td>\n",
       "      <td>0.0</td>\n",
       "      <td>5</td>\n",
       "      <td>[no_bus_stop_nearby, 0-5min]</td>\n",
       "    </tr>\n",
       "    <tr>\n",
       "      <th>2</th>\n",
       "      <td>SubwayStation</td>\n",
       "      <td>object</td>\n",
       "      <td>0</td>\n",
       "      <td>0.0</td>\n",
       "      <td>8</td>\n",
       "      <td>[Sin-nam, Bangoge]</td>\n",
       "    </tr>\n",
       "    <tr>\n",
       "      <th>3</th>\n",
       "      <td>N_FacilitiesNearBy(ETC)</td>\n",
       "      <td>float64</td>\n",
       "      <td>0</td>\n",
       "      <td>0.0</td>\n",
       "      <td>4</td>\n",
       "      <td>[5.0, 0.0]</td>\n",
       "    </tr>\n",
       "    <tr>\n",
       "      <th>4</th>\n",
       "      <td>N_FacilitiesNearBy(PublicOffice)</td>\n",
       "      <td>float64</td>\n",
       "      <td>0</td>\n",
       "      <td>0.0</td>\n",
       "      <td>8</td>\n",
       "      <td>[5.0, 2.0]</td>\n",
       "    </tr>\n",
       "    <tr>\n",
       "      <th>5</th>\n",
       "      <td>N_SchoolNearBy(University)</td>\n",
       "      <td>float64</td>\n",
       "      <td>0</td>\n",
       "      <td>0.0</td>\n",
       "      <td>6</td>\n",
       "      <td>[1.0, 4.0]</td>\n",
       "    </tr>\n",
       "    <tr>\n",
       "      <th>6</th>\n",
       "      <td>N_Parkinglot(Basement)</td>\n",
       "      <td>float64</td>\n",
       "      <td>0</td>\n",
       "      <td>0.0</td>\n",
       "      <td>20</td>\n",
       "      <td>[1174.0, 536.0]</td>\n",
       "    </tr>\n",
       "    <tr>\n",
       "      <th>7</th>\n",
       "      <td>YearBuilt</td>\n",
       "      <td>int64</td>\n",
       "      <td>0</td>\n",
       "      <td>0.0</td>\n",
       "      <td>16</td>\n",
       "      <td>[1992, 2007]</td>\n",
       "    </tr>\n",
       "    <tr>\n",
       "      <th>8</th>\n",
       "      <td>N_FacilitiesInApt</td>\n",
       "      <td>int64</td>\n",
       "      <td>0</td>\n",
       "      <td>0.0</td>\n",
       "      <td>9</td>\n",
       "      <td>[8, 3]</td>\n",
       "    </tr>\n",
       "    <tr>\n",
       "      <th>9</th>\n",
       "      <td>Size(sqf)</td>\n",
       "      <td>int64</td>\n",
       "      <td>0</td>\n",
       "      <td>0.0</td>\n",
       "      <td>89</td>\n",
       "      <td>[818, 355]</td>\n",
       "    </tr>\n",
       "    <tr>\n",
       "      <th>10</th>\n",
       "      <td>SalePrice</td>\n",
       "      <td>int64</td>\n",
       "      <td>0</td>\n",
       "      <td>0.0</td>\n",
       "      <td>838</td>\n",
       "      <td>[347787, 124778]</td>\n",
       "    </tr>\n",
       "  </tbody>\n",
       "</table>\n",
       "</div>"
      ],
      "text/plain": [
       "                        dataFeatures dataType  null  nullPct  unique  \\\n",
       "0                        HallwayType   object     0      0.0       3   \n",
       "1                       TimeToSubway   object     0      0.0       5   \n",
       "2                      SubwayStation   object     0      0.0       8   \n",
       "3            N_FacilitiesNearBy(ETC)  float64     0      0.0       4   \n",
       "4   N_FacilitiesNearBy(PublicOffice)  float64     0      0.0       8   \n",
       "5         N_SchoolNearBy(University)  float64     0      0.0       6   \n",
       "6             N_Parkinglot(Basement)  float64     0      0.0      20   \n",
       "7                          YearBuilt    int64     0      0.0      16   \n",
       "8                  N_FacilitiesInApt    int64     0      0.0       9   \n",
       "9                          Size(sqf)    int64     0      0.0      89   \n",
       "10                         SalePrice    int64     0      0.0     838   \n",
       "\n",
       "                    uniqueSample  \n",
       "0           [terraced, corridor]  \n",
       "1   [no_bus_stop_nearby, 0-5min]  \n",
       "2             [Sin-nam, Bangoge]  \n",
       "3                     [5.0, 0.0]  \n",
       "4                     [5.0, 2.0]  \n",
       "5                     [1.0, 4.0]  \n",
       "6                [1174.0, 536.0]  \n",
       "7                   [1992, 2007]  \n",
       "8                         [8, 3]  \n",
       "9                     [818, 355]  \n",
       "10              [347787, 124778]  "
      ]
     },
     "execution_count": 17,
     "metadata": {},
     "output_type": "execute_result"
    }
   ],
   "source": [
    "listItem = []\n",
    "\n",
    "for col in df.columns:\n",
    "    listItem.append([col, df[col].dtype, df[col].isna().sum(), round((df[col].isna().sum()/len(df[col]))*100, 2),\n",
    "                    df[col].nunique(), list(df[col].drop_duplicates().sample(2).values)]);\n",
    "\n",
    "df_model_desc = pd.DataFrame(columns=['dataFeatures', 'dataType', 'null', 'nullPct', 'unique', 'uniqueSample'],\n",
    "                     data=listItem)\n",
    "df_model_desc"
   ]
  },
  {
   "cell_type": "markdown",
   "id": "17bfdc3d-ca9b-4970-97b5-d83468e77cee",
   "metadata": {},
   "source": [
    "Sepertinya tidak ada missing value pada dataset ini."
   ]
  },
  {
   "cell_type": "markdown",
   "id": "991bcf45-f656-475e-9928-10db86dc1ea1",
   "metadata": {},
   "source": [
    "**Data Duplicatates**"
   ]
  },
  {
   "cell_type": "code",
   "execution_count": 18,
   "id": "844b3072-31e6-4410-8e5a-54f73ea4cf67",
   "metadata": {},
   "outputs": [],
   "source": [
    "# Menghapus data duplicates\n",
    "df = df.drop_duplicates()"
   ]
  },
  {
   "cell_type": "code",
   "execution_count": 19,
   "id": "debc4647-baf5-4290-8016-e4f2b8456f3a",
   "metadata": {},
   "outputs": [
    {
     "data": {
      "text/plain": [
       "0"
      ]
     },
     "execution_count": 19,
     "metadata": {},
     "output_type": "execute_result"
    }
   ],
   "source": [
    "df.duplicated().sum()"
   ]
  },
  {
   "cell_type": "markdown",
   "id": "65df0afa-5dd4-4d30-b49e-a6be2ba21f03",
   "metadata": {},
   "source": [
    "**Outliers**"
   ]
  },
  {
   "cell_type": "code",
   "execution_count": 20,
   "id": "6c522da2-a5a8-4d49-bc05-538d6b52cb4e",
   "metadata": {},
   "outputs": [],
   "source": [
    "def find_anomalies(data):\n",
    "    q1 = data.quantile(0.25)\n",
    "    q3 = data.quantile(0.75)\n",
    "    iqr = q3 - q1\n",
    "    limit = iqr*1.5\n",
    "    print(f'IQR: {iqr}')\n",
    "\n",
    "    limit_bawah = q1 - limit\n",
    "    limit_atas = q3 + limit\n",
    "    print(f'limit_bawah: {limit_bawah}')\n",
    "    print(f'limit_atas: {limit_atas}')        "
   ]
  },
  {
   "cell_type": "code",
   "execution_count": 21,
   "id": "243d8b1d-05c1-414b-9daf-ef4850733f40",
   "metadata": {},
   "outputs": [
    {
     "name": "stdout",
     "output_type": "stream",
     "text": [
      "IQR: 147345.0\n",
      "limit_bawah: -67478.5\n",
      "limit_atas: 521901.5\n",
      "17\n"
     ]
    }
   ],
   "source": [
    "# Outliers pada sale price\n",
    "find_anomalies(df['SalePrice'])\n",
    "print(df[df['SalePrice'] > 521901.5].count()['SalePrice'])"
   ]
  },
  {
   "cell_type": "code",
   "execution_count": 22,
   "id": "51a08f66-e1f7-466b-8ee1-daa04e4c3996",
   "metadata": {},
   "outputs": [
    {
     "name": "stdout",
     "output_type": "stream",
     "text": [
      "IQR: 424.0\n",
      "limit_bawah: 107.0\n",
      "limit_atas: 1803.0\n",
      "84\n"
     ]
    }
   ],
   "source": [
    "# Outliers pada size\n",
    "find_anomalies(df['Size(sqf)'])\n",
    "print(df[df['Size(sqf)'] > 1803.0].count()['Size(sqf)'])"
   ]
  },
  {
   "cell_type": "markdown",
   "id": "60e0a616-bb8c-46e7-ba36-fbea93886e14",
   "metadata": {},
   "source": [
    "Selanjutnya akan dilakukan feature engineering"
   ]
  },
  {
   "cell_type": "markdown",
   "id": "283a0d7b-09d9-4f73-b8be-df885d2a1dc3",
   "metadata": {},
   "source": [
    "**Sale Price**"
   ]
  },
  {
   "cell_type": "code",
   "execution_count": 23,
   "id": "cf60616f-142d-4006-bfe5-a0ebf7a2cab9",
   "metadata": {},
   "outputs": [
    {
     "data": {
      "text/plain": [
       "count      2701.000000\n",
       "mean     229511.365790\n",
       "std      105079.891321\n",
       "min       32743.000000\n",
       "25%      153539.000000\n",
       "50%      221238.000000\n",
       "75%      300884.000000\n",
       "max      585840.000000\n",
       "Name: SalePrice, dtype: float64"
      ]
     },
     "execution_count": 23,
     "metadata": {},
     "output_type": "execute_result"
    }
   ],
   "source": [
    "df['SalePrice'].describe()"
   ]
  },
  {
   "cell_type": "code",
   "execution_count": 24,
   "id": "d8e9181e-d319-48d9-93e9-024ee77dcd4c",
   "metadata": {},
   "outputs": [
    {
     "data": {
      "text/plain": [
       "17"
      ]
     },
     "execution_count": 24,
     "metadata": {},
     "output_type": "execute_result"
    }
   ],
   "source": [
    "# Cek price > $521901.5\n",
    "df[df['SalePrice'] > 521901.5].count()['SalePrice']"
   ]
  },
  {
   "cell_type": "markdown",
   "id": "f99c8b56-5eca-4200-a12b-c837e4c9e0f4",
   "metadata": {},
   "source": [
    "Karena missing value pada Sales Price hanya ada 17 maka akan dibiarkan saja karena tidak akan memiliki dampak yang signifikan pada model dan juga agar range dari model dapat lebih luas."
   ]
  },
  {
   "cell_type": "markdown",
   "id": "be6131bb-41c9-4f6a-bcbb-e07561748e52",
   "metadata": {},
   "source": [
    "**Size**"
   ]
  },
  {
   "cell_type": "code",
   "execution_count": 25,
   "id": "d267856c-487e-4725-9bba-4fa6f8800a3b",
   "metadata": {},
   "outputs": [
    {
     "data": {
      "text/plain": [
       "count    2701.000000\n",
       "mean      984.028878\n",
       "std       391.982619\n",
       "min       135.000000\n",
       "25%       743.000000\n",
       "50%       910.000000\n",
       "75%      1167.000000\n",
       "max      2337.000000\n",
       "Name: Size(sqf), dtype: float64"
      ]
     },
     "execution_count": 25,
     "metadata": {},
     "output_type": "execute_result"
    }
   ],
   "source": [
    "df['Size(sqf)'].describe()"
   ]
  },
  {
   "cell_type": "code",
   "execution_count": 26,
   "id": "5643bea1-5e89-46de-9d9b-8a59fd545496",
   "metadata": {},
   "outputs": [
    {
     "data": {
      "text/plain": [
       "84"
      ]
     },
     "execution_count": 26,
     "metadata": {},
     "output_type": "execute_result"
    }
   ],
   "source": [
    "# Cek price > 1803.0\n",
    "df[df['Size(sqf)'] > 1803.0].count()['Size(sqf)']"
   ]
  },
  {
   "cell_type": "markdown",
   "id": "98755f62-5c0f-4613-87c6-c67f6fcb57a6",
   "metadata": {},
   "source": [
    "Outliers pada kolom size juga akan disimpan karena jumlahnya yang relatif sedikit."
   ]
  },
  {
   "cell_type": "markdown",
   "id": "f19294f4-19bf-488d-9094-3b100b517d79",
   "metadata": {},
   "source": [
    "Outliers pada kolom lain tidak akan diperiksa karena tidak relevan"
   ]
  },
  {
   "cell_type": "code",
   "execution_count": null,
   "id": "39c63486-805e-4213-864c-51ad18e5d727",
   "metadata": {},
   "outputs": [],
   "source": []
  },
  {
   "cell_type": "markdown",
   "id": "1f47d60b-674d-4990-b858-2614599cd8a9",
   "metadata": {},
   "source": [
    "**Clean Dataset**"
   ]
  },
  {
   "cell_type": "code",
   "execution_count": 27,
   "id": "b55b35d1-b9ab-4708-b999-1d6674dffdef",
   "metadata": {},
   "outputs": [
    {
     "data": {
      "text/html": [
       "<div>\n",
       "<style scoped>\n",
       "    .dataframe tbody tr th:only-of-type {\n",
       "        vertical-align: middle;\n",
       "    }\n",
       "\n",
       "    .dataframe tbody tr th {\n",
       "        vertical-align: top;\n",
       "    }\n",
       "\n",
       "    .dataframe thead th {\n",
       "        text-align: right;\n",
       "    }\n",
       "</style>\n",
       "<table border=\"1\" class=\"dataframe\">\n",
       "  <thead>\n",
       "    <tr style=\"text-align: right;\">\n",
       "      <th></th>\n",
       "      <th>HallwayType</th>\n",
       "      <th>TimeToSubway</th>\n",
       "      <th>SubwayStation</th>\n",
       "      <th>N_FacilitiesNearBy(ETC)</th>\n",
       "      <th>N_FacilitiesNearBy(PublicOffice)</th>\n",
       "      <th>N_SchoolNearBy(University)</th>\n",
       "      <th>N_Parkinglot(Basement)</th>\n",
       "      <th>YearBuilt</th>\n",
       "      <th>N_FacilitiesInApt</th>\n",
       "      <th>Size(sqf)</th>\n",
       "      <th>SalePrice</th>\n",
       "    </tr>\n",
       "  </thead>\n",
       "  <tbody>\n",
       "    <tr>\n",
       "      <th>0</th>\n",
       "      <td>terraced</td>\n",
       "      <td>0-5min</td>\n",
       "      <td>Kyungbuk_uni_hospital</td>\n",
       "      <td>0.0</td>\n",
       "      <td>3.0</td>\n",
       "      <td>2.0</td>\n",
       "      <td>1270.0</td>\n",
       "      <td>2007</td>\n",
       "      <td>10</td>\n",
       "      <td>1387</td>\n",
       "      <td>346017</td>\n",
       "    </tr>\n",
       "    <tr>\n",
       "      <th>1</th>\n",
       "      <td>terraced</td>\n",
       "      <td>10min~15min</td>\n",
       "      <td>Kyungbuk_uni_hospital</td>\n",
       "      <td>1.0</td>\n",
       "      <td>5.0</td>\n",
       "      <td>1.0</td>\n",
       "      <td>0.0</td>\n",
       "      <td>1986</td>\n",
       "      <td>4</td>\n",
       "      <td>914</td>\n",
       "      <td>150442</td>\n",
       "    </tr>\n",
       "    <tr>\n",
       "      <th>2</th>\n",
       "      <td>mixed</td>\n",
       "      <td>15min~20min</td>\n",
       "      <td>Chil-sung-market</td>\n",
       "      <td>1.0</td>\n",
       "      <td>7.0</td>\n",
       "      <td>3.0</td>\n",
       "      <td>56.0</td>\n",
       "      <td>1997</td>\n",
       "      <td>5</td>\n",
       "      <td>558</td>\n",
       "      <td>61946</td>\n",
       "    </tr>\n",
       "    <tr>\n",
       "      <th>3</th>\n",
       "      <td>mixed</td>\n",
       "      <td>5min~10min</td>\n",
       "      <td>Bangoge</td>\n",
       "      <td>5.0</td>\n",
       "      <td>5.0</td>\n",
       "      <td>4.0</td>\n",
       "      <td>798.0</td>\n",
       "      <td>2005</td>\n",
       "      <td>7</td>\n",
       "      <td>914</td>\n",
       "      <td>165486</td>\n",
       "    </tr>\n",
       "    <tr>\n",
       "      <th>4</th>\n",
       "      <td>terraced</td>\n",
       "      <td>0-5min</td>\n",
       "      <td>Sin-nam</td>\n",
       "      <td>0.0</td>\n",
       "      <td>1.0</td>\n",
       "      <td>2.0</td>\n",
       "      <td>536.0</td>\n",
       "      <td>2006</td>\n",
       "      <td>5</td>\n",
       "      <td>1743</td>\n",
       "      <td>311504</td>\n",
       "    </tr>\n",
       "    <tr>\n",
       "      <th>...</th>\n",
       "      <td>...</td>\n",
       "      <td>...</td>\n",
       "      <td>...</td>\n",
       "      <td>...</td>\n",
       "      <td>...</td>\n",
       "      <td>...</td>\n",
       "      <td>...</td>\n",
       "      <td>...</td>\n",
       "      <td>...</td>\n",
       "      <td>...</td>\n",
       "      <td>...</td>\n",
       "    </tr>\n",
       "    <tr>\n",
       "      <th>4116</th>\n",
       "      <td>terraced</td>\n",
       "      <td>0-5min</td>\n",
       "      <td>Sin-nam</td>\n",
       "      <td>0.0</td>\n",
       "      <td>1.0</td>\n",
       "      <td>2.0</td>\n",
       "      <td>536.0</td>\n",
       "      <td>2006</td>\n",
       "      <td>5</td>\n",
       "      <td>818</td>\n",
       "      <td>290265</td>\n",
       "    </tr>\n",
       "    <tr>\n",
       "      <th>4117</th>\n",
       "      <td>mixed</td>\n",
       "      <td>15min~20min</td>\n",
       "      <td>Myung-duk</td>\n",
       "      <td>5.0</td>\n",
       "      <td>6.0</td>\n",
       "      <td>5.0</td>\n",
       "      <td>536.0</td>\n",
       "      <td>1993</td>\n",
       "      <td>4</td>\n",
       "      <td>1761</td>\n",
       "      <td>345132</td>\n",
       "    </tr>\n",
       "    <tr>\n",
       "      <th>4118</th>\n",
       "      <td>terraced</td>\n",
       "      <td>0-5min</td>\n",
       "      <td>Sin-nam</td>\n",
       "      <td>0.0</td>\n",
       "      <td>3.0</td>\n",
       "      <td>2.0</td>\n",
       "      <td>475.0</td>\n",
       "      <td>2008</td>\n",
       "      <td>8</td>\n",
       "      <td>914</td>\n",
       "      <td>323008</td>\n",
       "    </tr>\n",
       "    <tr>\n",
       "      <th>4119</th>\n",
       "      <td>mixed</td>\n",
       "      <td>15min~20min</td>\n",
       "      <td>Myung-duk</td>\n",
       "      <td>5.0</td>\n",
       "      <td>6.0</td>\n",
       "      <td>5.0</td>\n",
       "      <td>536.0</td>\n",
       "      <td>1993</td>\n",
       "      <td>4</td>\n",
       "      <td>1451</td>\n",
       "      <td>242477</td>\n",
       "    </tr>\n",
       "    <tr>\n",
       "      <th>4121</th>\n",
       "      <td>corridor</td>\n",
       "      <td>5min~10min</td>\n",
       "      <td>Daegu</td>\n",
       "      <td>2.0</td>\n",
       "      <td>5.0</td>\n",
       "      <td>0.0</td>\n",
       "      <td>76.0</td>\n",
       "      <td>1985</td>\n",
       "      <td>3</td>\n",
       "      <td>676</td>\n",
       "      <td>73451</td>\n",
       "    </tr>\n",
       "  </tbody>\n",
       "</table>\n",
       "<p>2701 rows × 11 columns</p>\n",
       "</div>"
      ],
      "text/plain": [
       "     HallwayType TimeToSubway          SubwayStation  N_FacilitiesNearBy(ETC)  \\\n",
       "0       terraced       0-5min  Kyungbuk_uni_hospital                      0.0   \n",
       "1       terraced  10min~15min  Kyungbuk_uni_hospital                      1.0   \n",
       "2          mixed  15min~20min       Chil-sung-market                      1.0   \n",
       "3          mixed   5min~10min                Bangoge                      5.0   \n",
       "4       terraced       0-5min                Sin-nam                      0.0   \n",
       "...          ...          ...                    ...                      ...   \n",
       "4116    terraced       0-5min                Sin-nam                      0.0   \n",
       "4117       mixed  15min~20min              Myung-duk                      5.0   \n",
       "4118    terraced       0-5min                Sin-nam                      0.0   \n",
       "4119       mixed  15min~20min              Myung-duk                      5.0   \n",
       "4121    corridor   5min~10min                  Daegu                      2.0   \n",
       "\n",
       "      N_FacilitiesNearBy(PublicOffice)  N_SchoolNearBy(University)  \\\n",
       "0                                  3.0                         2.0   \n",
       "1                                  5.0                         1.0   \n",
       "2                                  7.0                         3.0   \n",
       "3                                  5.0                         4.0   \n",
       "4                                  1.0                         2.0   \n",
       "...                                ...                         ...   \n",
       "4116                               1.0                         2.0   \n",
       "4117                               6.0                         5.0   \n",
       "4118                               3.0                         2.0   \n",
       "4119                               6.0                         5.0   \n",
       "4121                               5.0                         0.0   \n",
       "\n",
       "      N_Parkinglot(Basement)  YearBuilt  N_FacilitiesInApt  Size(sqf)  \\\n",
       "0                     1270.0       2007                 10       1387   \n",
       "1                        0.0       1986                  4        914   \n",
       "2                       56.0       1997                  5        558   \n",
       "3                      798.0       2005                  7        914   \n",
       "4                      536.0       2006                  5       1743   \n",
       "...                      ...        ...                ...        ...   \n",
       "4116                   536.0       2006                  5        818   \n",
       "4117                   536.0       1993                  4       1761   \n",
       "4118                   475.0       2008                  8        914   \n",
       "4119                   536.0       1993                  4       1451   \n",
       "4121                    76.0       1985                  3        676   \n",
       "\n",
       "      SalePrice  \n",
       "0        346017  \n",
       "1        150442  \n",
       "2         61946  \n",
       "3        165486  \n",
       "4        311504  \n",
       "...         ...  \n",
       "4116     290265  \n",
       "4117     345132  \n",
       "4118     323008  \n",
       "4119     242477  \n",
       "4121      73451  \n",
       "\n",
       "[2701 rows x 11 columns]"
      ]
     },
     "execution_count": 27,
     "metadata": {},
     "output_type": "execute_result"
    }
   ],
   "source": [
    "df"
   ]
  },
  {
   "cell_type": "markdown",
   "id": "2babab43-d1a5-46c1-8e9f-9ed485dea82d",
   "metadata": {},
   "source": [
    "Diatas adalah data yang akan digunakan untuk modeling"
   ]
  },
  {
   "cell_type": "markdown",
   "id": "7e2d2b05-597d-4c99-9b8a-718d0dc92bf7",
   "metadata": {},
   "source": [
    "# 4. Modeling"
   ]
  },
  {
   "cell_type": "code",
   "execution_count": 28,
   "id": "96482a71-1d58-41cb-893a-453788507c35",
   "metadata": {},
   "outputs": [],
   "source": [
    "from sklearn.model_selection import train_test_split, cross_val_score, RandomizedSearchCV, GridSearchCV, KFold , StratifiedKFold\n",
    "\n",
    "import category_encoders as ce\n",
    "from sklearn.preprocessing import OneHotEncoder, PolynomialFeatures, PowerTransformer\n",
    "from sklearn.compose import ColumnTransformer\n",
    "from sklearn.pipeline import Pipeline\n",
    "\n",
    "from sklearn.linear_model import LinearRegression\n",
    "from sklearn.neighbors import KNeighborsRegressor\n",
    "from sklearn.tree import DecisionTreeRegressor\n",
    "from sklearn.ensemble import RandomForestRegressor\n",
    "from xgboost.sklearn import XGBRegressor\n",
    "from sklearn.compose import TransformedTargetRegressor\n",
    "\n",
    "from sklearn.preprocessing import StandardScaler\n",
    "\n",
    "from sklearn.metrics import r2_score, mean_squared_error, mean_absolute_error, mean_absolute_percentage_error"
   ]
  },
  {
   "cell_type": "markdown",
   "id": "fe24e47e-444d-4909-af40-8e6f3a8ce171",
   "metadata": {},
   "source": [
    "**Data Splitting**"
   ]
  },
  {
   "cell_type": "code",
   "execution_count": 29,
   "id": "fb022b6b-62b3-4710-93da-c6e3abb19f87",
   "metadata": {},
   "outputs": [],
   "source": [
    "x = df.drop(columns= 'SalePrice')\n",
    "y = df['SalePrice']"
   ]
  },
  {
   "cell_type": "code",
   "execution_count": 30,
   "id": "a56c710c-3564-49b8-a5da-163147a16b9b",
   "metadata": {},
   "outputs": [],
   "source": [
    "x_train, x_test, y_train, y_test = train_test_split(x,y,random_state=2020)"
   ]
  },
  {
   "cell_type": "markdown",
   "id": "e785add7-24c3-46cf-90af-db8e84b1fd65",
   "metadata": {},
   "source": [
    "Data displit menggunakan train_test_split default yaitu menjadi 75% data train dan 25% data test"
   ]
  },
  {
   "cell_type": "markdown",
   "id": "ccc98573-066a-4f89-baff-a0f19bf3eb3c",
   "metadata": {},
   "source": [
    "**Encoding**"
   ]
  },
  {
   "cell_type": "markdown",
   "id": "fcd89e96-287d-4cf1-a37b-9d379f9c0c24",
   "metadata": {},
   "source": [
    "Akan dilakukan encoding pada data-data ketegorik agar dapat dimasukan ke dalam model. Kolom Hallway Type dan time to subway akan menggunakan One hot encoder karena jumlah kelas yang relatif sedikit, sedangkan subway station akan menggunakan binary encoding karena jumlah kelas relatif banyak."
   ]
  },
  {
   "cell_type": "code",
   "execution_count": 31,
   "id": "ada67565-766d-44f5-b17c-302cd16e0900",
   "metadata": {},
   "outputs": [],
   "source": [
    "transformer = ColumnTransformer([\n",
    "    ('One Hot', OneHotEncoder(drop='first'), ['HallwayType','TimeToSubway',]),\n",
    "    ('binary', ce.BinaryEncoder(), ['SubwayStation'])\n",
    "\n",
    "], remainder='passthrough')"
   ]
  },
  {
   "cell_type": "markdown",
   "id": "5c1fe01c-dbdd-4247-bc15-1bf3c458c2c9",
   "metadata": {},
   "source": [
    "**Model Benchmark**"
   ]
  },
  {
   "cell_type": "code",
   "execution_count": 32,
   "id": "a2466686-f75d-4a67-986c-af3479d08097",
   "metadata": {},
   "outputs": [
    {
     "name": "stdout",
     "output_type": "stream",
     "text": [
      "[0.7665589  0.7320859  0.74707962 0.76314197 0.72837171] LinearRegression()\n",
      "[-40291.85198983 -43702.98284102 -43753.47818964 -44930.49846483\n",
      " -42186.46833074] LinearRegression()\n",
      "[-0.21654916 -0.22550586 -0.21719955 -0.2345674  -0.22564706] LinearRegression()\n",
      "[0.78012086 0.719485   0.75840721 0.78030207 0.76531584] KNeighborsRegressor()\n",
      "[-38080.96888889 -43655.31950617 -42303.1417284  -41992.88246914\n",
      " -38732.18666667] KNeighborsRegressor()\n",
      "[-0.1946937  -0.21618399 -0.21119124 -0.21428515 -0.2031417 ] KNeighborsRegressor()\n",
      "[0.81890445 0.76067235 0.81039481 0.80905945 0.80410844] DecisionTreeRegressor(random_state=2020)\n",
      "[-35273.33178976 -40603.94778628 -38814.04794602 -39105.36067088\n",
      " -35997.19875089] DecisionTreeRegressor(random_state=2020)\n",
      "[-0.18481297 -0.20131149 -0.19314544 -0.20445419 -0.18924896] DecisionTreeRegressor(random_state=2020)\n",
      "[0.81710988 0.7612384  0.81038162 0.80927959 0.8040931 ] RandomForestRegressor(random_state=2020)\n",
      "[-35465.96651168 -40545.9777541  -38750.96877191 -39138.90509128\n",
      " -36116.52106515] RandomForestRegressor(random_state=2020)\n",
      "[-0.18841003 -0.20132072 -0.19323025 -0.20517552 -0.1912909 ] RandomForestRegressor(random_state=2020)\n",
      "[0.81793163 0.76067595 0.81045733 0.80906446 0.80411137] XGBRegressor(base_score=None, booster=None, callbacks=None,\n",
      "             colsample_bylevel=None, colsample_bynode=None,\n",
      "             colsample_bytree=None, early_stopping_rounds=None,\n",
      "             enable_categorical=False, eval_metric=None, feature_types=None,\n",
      "             gamma=None, gpu_id=None, grow_policy=None, importance_type=None,\n",
      "             interaction_constraints=None, learning_rate=None, max_bin=None,\n",
      "             max_cat_threshold=None, max_cat_to_onehot=None,\n",
      "             max_delta_step=None, max_depth=None, max_leaves=None,\n",
      "             min_child_weight=None, missing=nan, monotone_constraints=None,\n",
      "             n_estimators=100, n_jobs=None, num_parallel_tree=None,\n",
      "             predictor=None, random_state=2020, ...)\n",
      "[-35405.58399884 -40603.45515046 -38799.99543789 -39104.68698881\n",
      " -35996.5033179 ] XGBRegressor(base_score=None, booster=None, callbacks=None,\n",
      "             colsample_bylevel=None, colsample_bynode=None,\n",
      "             colsample_bytree=None, early_stopping_rounds=None,\n",
      "             enable_categorical=False, eval_metric=None, feature_types=None,\n",
      "             gamma=None, gpu_id=None, grow_policy=None, importance_type=None,\n",
      "             interaction_constraints=None, learning_rate=None, max_bin=None,\n",
      "             max_cat_threshold=None, max_cat_to_onehot=None,\n",
      "             max_delta_step=None, max_depth=None, max_leaves=None,\n",
      "             min_child_weight=None, missing=nan, monotone_constraints=None,\n",
      "             n_estimators=100, n_jobs=None, num_parallel_tree=None,\n",
      "             predictor=None, random_state=2020, ...)\n",
      "[-0.18742051 -0.20130832 -0.19299757 -0.2044527  -0.18924394] XGBRegressor(base_score=None, booster=None, callbacks=None,\n",
      "             colsample_bylevel=None, colsample_bynode=None,\n",
      "             colsample_bytree=None, early_stopping_rounds=None,\n",
      "             enable_categorical=False, eval_metric=None, feature_types=None,\n",
      "             gamma=None, gpu_id=None, grow_policy=None, importance_type=None,\n",
      "             interaction_constraints=None, learning_rate=None, max_bin=None,\n",
      "             max_cat_threshold=None, max_cat_to_onehot=None,\n",
      "             max_delta_step=None, max_depth=None, max_leaves=None,\n",
      "             min_child_weight=None, missing=nan, monotone_constraints=None,\n",
      "             n_estimators=100, n_jobs=None, num_parallel_tree=None,\n",
      "             predictor=None, random_state=2020, ...)\n"
     ]
    }
   ],
   "source": [
    "lr = LinearRegression()\n",
    "knn = KNeighborsRegressor()\n",
    "dt = DecisionTreeRegressor(random_state=2020)\n",
    "rf = RandomForestRegressor(random_state=2020)\n",
    "xgb = XGBRegressor(random_state=2020)\n",
    "\n",
    "\n",
    "models = [lr, knn, dt, rf, xgb]\n",
    "\n",
    "score_r2 = []\n",
    "nilai_mean_r2 = []\n",
    "nilai_std_r2 = []\n",
    "\n",
    "score_mae = []\n",
    "nilai_mean_mae = []\n",
    "nilai_std_mae = []\n",
    "\n",
    "score_mape = []\n",
    "nilai_mean_mape = []\n",
    "nilai_std_mape = []\n",
    "\n",
    "# Mencari score R2, MAE, dan MAPE dari setiap model\n",
    "for i in models:\n",
    "    \n",
    "    crossval = KFold(n_splits=5, shuffle=True, random_state=2020)\n",
    "\n",
    "    estimator = Pipeline([\n",
    "        ('preprocessing', transformer),\n",
    "        ('model', i),\n",
    "    ])\n",
    "\n",
    "    # R2\n",
    "    model_cv_r2 = cross_val_score(\n",
    "        estimator, \n",
    "        x_train, \n",
    "        y_train, \n",
    "        cv=crossval, \n",
    "        scoring='r2', \n",
    "        )\n",
    "\n",
    "    print(model_cv_r2, i)\n",
    "\n",
    "    score_r2.append(model_cv_r2)\n",
    "    nilai_mean_r2.append(model_cv_r2.mean())\n",
    "    nilai_std_r2.append(model_cv_r2.std())\n",
    "\n",
    "    # MAE\n",
    "    model_cv_mae = cross_val_score(\n",
    "        estimator, \n",
    "        x_train, \n",
    "        y_train, \n",
    "        cv=crossval, \n",
    "        scoring='neg_mean_absolute_error', \n",
    "        )\n",
    "\n",
    "    print(model_cv_mae, i)\n",
    "\n",
    "    score_mae.append(model_cv_mae)\n",
    "    nilai_mean_mae.append(model_cv_mae.mean())\n",
    "    nilai_std_mae.append(model_cv_mae.std())\n",
    "\n",
    "    # MAPE\n",
    "    model_cv_mape = cross_val_score(\n",
    "        estimator, \n",
    "        x_train, \n",
    "        y_train, \n",
    "        cv=crossval, \n",
    "        scoring='neg_mean_absolute_percentage_error', \n",
    "        )\n",
    "\n",
    "    print(model_cv_mape, i)\n",
    "\n",
    "    score_mape.append(model_cv_mape)\n",
    "    nilai_mean_mape.append(model_cv_mape.mean())\n",
    "    nilai_std_mape.append(model_cv_mape.std())"
   ]
  },
  {
   "cell_type": "code",
   "execution_count": 33,
   "id": "62376938-9732-46b6-8405-075481b6197b",
   "metadata": {},
   "outputs": [
    {
     "data": {
      "text/html": [
       "<div>\n",
       "<style scoped>\n",
       "    .dataframe tbody tr th:only-of-type {\n",
       "        vertical-align: middle;\n",
       "    }\n",
       "\n",
       "    .dataframe tbody tr th {\n",
       "        vertical-align: top;\n",
       "    }\n",
       "\n",
       "    .dataframe thead th {\n",
       "        text-align: right;\n",
       "    }\n",
       "</style>\n",
       "<table border=\"1\" class=\"dataframe\">\n",
       "  <thead>\n",
       "    <tr style=\"text-align: right;\">\n",
       "      <th></th>\n",
       "      <th>Model</th>\n",
       "      <th>Mean_R2</th>\n",
       "      <th>Std_R2</th>\n",
       "      <th>Mean_MAE</th>\n",
       "      <th>Std_MAE</th>\n",
       "      <th>Mean_MAPE</th>\n",
       "      <th>Std_MAPE</th>\n",
       "    </tr>\n",
       "  </thead>\n",
       "  <tbody>\n",
       "    <tr>\n",
       "      <th>0</th>\n",
       "      <td>Linear Regression</td>\n",
       "      <td>0.747448</td>\n",
       "      <td>0.015566</td>\n",
       "      <td>-42973.055963</td>\n",
       "      <td>1598.812565</td>\n",
       "      <td>-0.223894</td>\n",
       "      <td>0.006608</td>\n",
       "    </tr>\n",
       "    <tr>\n",
       "      <th>1</th>\n",
       "      <td>KNN Regressor</td>\n",
       "      <td>0.760726</td>\n",
       "      <td>0.022301</td>\n",
       "      <td>-40952.899852</td>\n",
       "      <td>2162.745638</td>\n",
       "      <td>-0.207899</td>\n",
       "      <td>0.007966</td>\n",
       "    </tr>\n",
       "    <tr>\n",
       "      <th>2</th>\n",
       "      <td>DecisionTree Regressor</td>\n",
       "      <td>0.800628</td>\n",
       "      <td>0.020538</td>\n",
       "      <td>-37958.777389</td>\n",
       "      <td>2005.117263</td>\n",
       "      <td>-0.194595</td>\n",
       "      <td>0.007331</td>\n",
       "    </tr>\n",
       "    <tr>\n",
       "      <th>3</th>\n",
       "      <td>RandomForest Regressor</td>\n",
       "      <td>0.800421</td>\n",
       "      <td>0.020025</td>\n",
       "      <td>-38003.667839</td>\n",
       "      <td>1913.730022</td>\n",
       "      <td>-0.195885</td>\n",
       "      <td>0.006323</td>\n",
       "    </tr>\n",
       "    <tr>\n",
       "      <th>4</th>\n",
       "      <td>XGBoost Regressor</td>\n",
       "      <td>0.800448</td>\n",
       "      <td>0.020373</td>\n",
       "      <td>-37982.044979</td>\n",
       "      <td>1968.841598</td>\n",
       "      <td>-0.195085</td>\n",
       "      <td>0.006689</td>\n",
       "    </tr>\n",
       "  </tbody>\n",
       "</table>\n",
       "</div>"
      ],
      "text/plain": [
       "                    Model   Mean_R2    Std_R2      Mean_MAE      Std_MAE  \\\n",
       "0       Linear Regression  0.747448  0.015566 -42973.055963  1598.812565   \n",
       "1           KNN Regressor  0.760726  0.022301 -40952.899852  2162.745638   \n",
       "2  DecisionTree Regressor  0.800628  0.020538 -37958.777389  2005.117263   \n",
       "3  RandomForest Regressor  0.800421  0.020025 -38003.667839  1913.730022   \n",
       "4       XGBoost Regressor  0.800448  0.020373 -37982.044979  1968.841598   \n",
       "\n",
       "   Mean_MAPE  Std_MAPE  \n",
       "0  -0.223894  0.006608  \n",
       "1  -0.207899  0.007966  \n",
       "2  -0.194595  0.007331  \n",
       "3  -0.195885  0.006323  \n",
       "4  -0.195085  0.006689  "
      ]
     },
     "execution_count": 33,
     "metadata": {},
     "output_type": "execute_result"
    }
   ],
   "source": [
    "pd.DataFrame({\n",
    "    'Model': ['Linear Regression', 'KNN Regressor', 'DecisionTree Regressor', 'RandomForest Regressor', 'XGBoost Regressor'],\n",
    "    'Mean_R2': nilai_mean_r2,\n",
    "    'Std_R2': nilai_std_r2,\n",
    "    'Mean_MAE': nilai_mean_mae,\n",
    "    'Std_MAE': nilai_std_mae,\n",
    "    'Mean_MAPE': nilai_mean_mape,\n",
    "    'Std_MAPE': nilai_std_mape\n",
    "})"
   ]
  },
  {
   "cell_type": "markdown",
   "id": "ddb24101-0629-480e-b774-8399fa1f96d7",
   "metadata": {},
   "source": [
    "Berdasarkan hasil benchmark diatas terlihat bahwa model Decision Tree Regressor memiliki performa terbaik karena memiliki nilai R2 paling besar dan memiliki nilai MAE dan MAPE yang paling kecil, lalu diikuti oleh model XGBoost dengan nilai performa yang hanya memiliki perbedaan sangat sedikit dibandingkan Decision tree regressor, oleh karena itu akan dianalisis lebih lanjut dengan menggunakan 2 model dengan performa terbaik dan memprediksikannya dengan test set"
   ]
  },
  {
   "cell_type": "markdown",
   "id": "1a905822-f7cf-4de3-af59-f4b170acc321",
   "metadata": {},
   "source": [
    "**Predict to test set using benchmark model**"
   ]
  },
  {
   "cell_type": "code",
   "execution_count": 34,
   "id": "01669962-2b2d-44f0-be9a-f6327627adcd",
   "metadata": {},
   "outputs": [
    {
     "data": {
      "text/html": [
       "<div>\n",
       "<style scoped>\n",
       "    .dataframe tbody tr th:only-of-type {\n",
       "        vertical-align: middle;\n",
       "    }\n",
       "\n",
       "    .dataframe tbody tr th {\n",
       "        vertical-align: top;\n",
       "    }\n",
       "\n",
       "    .dataframe thead th {\n",
       "        text-align: right;\n",
       "    }\n",
       "</style>\n",
       "<table border=\"1\" class=\"dataframe\">\n",
       "  <thead>\n",
       "    <tr style=\"text-align: right;\">\n",
       "      <th></th>\n",
       "      <th>R2</th>\n",
       "      <th>MAE</th>\n",
       "      <th>MAPE</th>\n",
       "    </tr>\n",
       "  </thead>\n",
       "  <tbody>\n",
       "    <tr>\n",
       "      <th>XGB</th>\n",
       "      <td>0.812040</td>\n",
       "      <td>36696.608445</td>\n",
       "      <td>0.186064</td>\n",
       "    </tr>\n",
       "    <tr>\n",
       "      <th>DT</th>\n",
       "      <td>0.811839</td>\n",
       "      <td>36721.332832</td>\n",
       "      <td>0.186120</td>\n",
       "    </tr>\n",
       "  </tbody>\n",
       "</table>\n",
       "</div>"
      ],
      "text/plain": [
       "           R2           MAE      MAPE\n",
       "XGB  0.812040  36696.608445  0.186064\n",
       "DT   0.811839  36721.332832  0.186120"
      ]
     },
     "execution_count": 34,
     "metadata": {},
     "output_type": "execute_result"
    }
   ],
   "source": [
    "# Benchmark 2 model terbaik\n",
    "models = {\n",
    "    'XGB': XGBRegressor(random_state=2020),\n",
    "    'DT': DecisionTreeRegressor(random_state=2020)\n",
    "}\n",
    "\n",
    "score_r2 = []\n",
    "score_mae = []\n",
    "score_mape = []\n",
    "\n",
    "# Prediksi pada test set\n",
    "for i in models:\n",
    "\n",
    "    model = Pipeline([\n",
    "        ('preprocessing', transformer),\n",
    "        ('model', models[i])\n",
    "        ])\n",
    "\n",
    "    model.fit(x_train, y_train)\n",
    "    y_pred = model.predict(x_test)\n",
    "    score_r2.append(r2_score(y_test, y_pred))\n",
    "    score_mae.append(mean_absolute_error(y_test, y_pred))\n",
    "    score_mape.append(mean_absolute_percentage_error(y_test, y_pred))\n",
    "\n",
    "score_before_tuning = pd.DataFrame({'R2': score_r2, 'MAE': score_mae, 'MAPE': score_mape}, index=models.keys())\n",
    "score_before_tuning"
   ]
  },
  {
   "cell_type": "markdown",
   "id": "7dfe9900-bbf3-4132-8045-c89243d4201c",
   "metadata": {},
   "source": [
    "Berdasarkan hasil prediksi dengan test set. terlihat bahwa model XGB memiliki performa sedikit lebih baik dibandingkan model decision tree karena memiliki nilai R2 yang lebih besar dan nilai MAE dan MAPE yang lebih kecil, oleh karena itu model yang akan dipilih adalah model XGBoost dan akan dilanjutkan ke hyperparametric tuning "
   ]
  },
  {
   "cell_type": "markdown",
   "id": "799aab63-559a-4408-a006-835eb575d872",
   "metadata": {},
   "source": [
    "**Hyperparametric Tuning**"
   ]
  },
  {
   "cell_type": "code",
   "execution_count": 35,
   "id": "e4931792-4d71-4560-a4d7-ad970a697710",
   "metadata": {},
   "outputs": [],
   "source": [
    "# Kedalaman pohon\n",
    "max_depth = list(np.arange(1, 11))\n",
    "\n",
    "# Learning rate\n",
    "learning_rate = list(np.arange(1, 100)/100)\n",
    "\n",
    "# Jumlah pohon\n",
    "n_estimators = list(np.arange(100, 201))\n",
    "\n",
    "# Jumlah baris tiap pohon (% dari total baris train set)\n",
    "subsample = list(np.arange(2, 10)/10)\n",
    "\n",
    "# Gamma (min_impurity_decrease)\n",
    "gamma = list(np.arange(1, 11)) # Semakin besar nilainya, semakin konservatif/simpel modelnya\n",
    "\n",
    "# Jumlah feature yang digunakan untuk tiap pohon (% dari total kolom train set)\n",
    "colsample_bytree = list(np.arange(1, 10)/10)\n",
    "\n",
    "# Alpha (regularization)\n",
    "reg_alpha = list(np.logspace(-3, 1, 10)) # Semakin besar nilainya, semakin konservatif/simpel modelnya\n",
    "\n",
    "\n",
    "# Hyperparam space XGboost\n",
    "hyperparam_space_xgb = {\n",
    "    'model__max_depth': max_depth, \n",
    "    'model__learning_rate': learning_rate,\n",
    "    'model__n_estimators': n_estimators,\n",
    "    'model__subsample': subsample,\n",
    "    'model__gamma': gamma,\n",
    "    'model__colsample_bytree': colsample_bytree,\n",
    "    'model__reg_alpha': reg_alpha\n",
    "}"
   ]
  },
  {
   "cell_type": "code",
   "execution_count": 36,
   "id": "c6722f79-c890-4d41-98b7-334a062c5f81",
   "metadata": {},
   "outputs": [],
   "source": [
    "# Benchmark model dengan hyperparameter tuning\n",
    "xgb = XGBRegressor(random_state=2020, verbosity=0)\n",
    "\n",
    "# Membuat algorithm chains\n",
    "estimator_xgb = Pipeline([\n",
    "        ('preprocessing', transformer),\n",
    "        ('model', xgb)\n",
    "        ])\n",
    "\n",
    "crossval = KFold(n_splits=5, shuffle=True, random_state=2020)\n",
    "\n",
    "# Hyperparameter tuning\n",
    "random_xgb = RandomizedSearchCV(\n",
    "    estimator_xgb, \n",
    "    param_distributions = hyperparam_space_xgb,\n",
    "    n_iter = 50,\n",
    "    cv = crossval, \n",
    "    scoring = ['neg_root_mean_squared_error', 'neg_mean_absolute_error', 'neg_mean_absolute_percentage_error'], \n",
    "    n_jobs = -1,\n",
    "    refit = 'neg_root_mean_squared_error', # Hanya bisa memilih salah stau metric untuk optimisasi\n",
    "    random_state = 2020  \n",
    ")"
   ]
  },
  {
   "cell_type": "code",
   "execution_count": 37,
   "id": "c8a1874f-f8d2-43b2-ae22-622e4e36e51f",
   "metadata": {},
   "outputs": [
    {
     "data": {
      "text/html": [
       "<style>#sk-container-id-1 {color: black;background-color: white;}#sk-container-id-1 pre{padding: 0;}#sk-container-id-1 div.sk-toggleable {background-color: white;}#sk-container-id-1 label.sk-toggleable__label {cursor: pointer;display: block;width: 100%;margin-bottom: 0;padding: 0.3em;box-sizing: border-box;text-align: center;}#sk-container-id-1 label.sk-toggleable__label-arrow:before {content: \"▸\";float: left;margin-right: 0.25em;color: #696969;}#sk-container-id-1 label.sk-toggleable__label-arrow:hover:before {color: black;}#sk-container-id-1 div.sk-estimator:hover label.sk-toggleable__label-arrow:before {color: black;}#sk-container-id-1 div.sk-toggleable__content {max-height: 0;max-width: 0;overflow: hidden;text-align: left;background-color: #f0f8ff;}#sk-container-id-1 div.sk-toggleable__content pre {margin: 0.2em;color: black;border-radius: 0.25em;background-color: #f0f8ff;}#sk-container-id-1 input.sk-toggleable__control:checked~div.sk-toggleable__content {max-height: 200px;max-width: 100%;overflow: auto;}#sk-container-id-1 input.sk-toggleable__control:checked~label.sk-toggleable__label-arrow:before {content: \"▾\";}#sk-container-id-1 div.sk-estimator input.sk-toggleable__control:checked~label.sk-toggleable__label {background-color: #d4ebff;}#sk-container-id-1 div.sk-label input.sk-toggleable__control:checked~label.sk-toggleable__label {background-color: #d4ebff;}#sk-container-id-1 input.sk-hidden--visually {border: 0;clip: rect(1px 1px 1px 1px);clip: rect(1px, 1px, 1px, 1px);height: 1px;margin: -1px;overflow: hidden;padding: 0;position: absolute;width: 1px;}#sk-container-id-1 div.sk-estimator {font-family: monospace;background-color: #f0f8ff;border: 1px dotted black;border-radius: 0.25em;box-sizing: border-box;margin-bottom: 0.5em;}#sk-container-id-1 div.sk-estimator:hover {background-color: #d4ebff;}#sk-container-id-1 div.sk-parallel-item::after {content: \"\";width: 100%;border-bottom: 1px solid gray;flex-grow: 1;}#sk-container-id-1 div.sk-label:hover label.sk-toggleable__label {background-color: #d4ebff;}#sk-container-id-1 div.sk-serial::before {content: \"\";position: absolute;border-left: 1px solid gray;box-sizing: border-box;top: 0;bottom: 0;left: 50%;z-index: 0;}#sk-container-id-1 div.sk-serial {display: flex;flex-direction: column;align-items: center;background-color: white;padding-right: 0.2em;padding-left: 0.2em;position: relative;}#sk-container-id-1 div.sk-item {position: relative;z-index: 1;}#sk-container-id-1 div.sk-parallel {display: flex;align-items: stretch;justify-content: center;background-color: white;position: relative;}#sk-container-id-1 div.sk-item::before, #sk-container-id-1 div.sk-parallel-item::before {content: \"\";position: absolute;border-left: 1px solid gray;box-sizing: border-box;top: 0;bottom: 0;left: 50%;z-index: -1;}#sk-container-id-1 div.sk-parallel-item {display: flex;flex-direction: column;z-index: 1;position: relative;background-color: white;}#sk-container-id-1 div.sk-parallel-item:first-child::after {align-self: flex-end;width: 50%;}#sk-container-id-1 div.sk-parallel-item:last-child::after {align-self: flex-start;width: 50%;}#sk-container-id-1 div.sk-parallel-item:only-child::after {width: 0;}#sk-container-id-1 div.sk-dashed-wrapped {border: 1px dashed gray;margin: 0 0.4em 0.5em 0.4em;box-sizing: border-box;padding-bottom: 0.4em;background-color: white;}#sk-container-id-1 div.sk-label label {font-family: monospace;font-weight: bold;display: inline-block;line-height: 1.2em;}#sk-container-id-1 div.sk-label-container {text-align: center;}#sk-container-id-1 div.sk-container {/* jupyter's `normalize.less` sets `[hidden] { display: none; }` but bootstrap.min.css set `[hidden] { display: none !important; }` so we also need the `!important` here to be able to override the default hidden behavior on the sphinx rendered scikit-learn.org. See: https://github.com/scikit-learn/scikit-learn/issues/21755 */display: inline-block !important;position: relative;}#sk-container-id-1 div.sk-text-repr-fallback {display: none;}</style><div id=\"sk-container-id-1\" class=\"sk-top-container\"><div class=\"sk-text-repr-fallback\"><pre>RandomizedSearchCV(cv=KFold(n_splits=5, random_state=2020, shuffle=True),\n",
       "                   estimator=Pipeline(steps=[(&#x27;preprocessing&#x27;,\n",
       "                                              ColumnTransformer(remainder=&#x27;passthrough&#x27;,\n",
       "                                                                transformers=[(&#x27;One &#x27;\n",
       "                                                                               &#x27;Hot&#x27;,\n",
       "                                                                               OneHotEncoder(drop=&#x27;first&#x27;),\n",
       "                                                                               [&#x27;HallwayType&#x27;,\n",
       "                                                                                &#x27;TimeToSubway&#x27;]),\n",
       "                                                                              (&#x27;binary&#x27;,\n",
       "                                                                               BinaryEncoder(),\n",
       "                                                                               [&#x27;SubwayStation&#x27;])])),\n",
       "                                             (&#x27;model&#x27;,\n",
       "                                              XGBRegressor(base_score=None,\n",
       "                                                           booster=None,\n",
       "                                                           callbacks...\n",
       "                                                             0.007742636826811269,\n",
       "                                                             0.021544346900318832,\n",
       "                                                             0.05994842503189409,\n",
       "                                                             0.1668100537200059,\n",
       "                                                             0.46415888336127775,\n",
       "                                                             1.2915496650148828,\n",
       "                                                             3.593813663804626,\n",
       "                                                             10.0],\n",
       "                                        &#x27;model__subsample&#x27;: [0.2, 0.3, 0.4, 0.5,\n",
       "                                                             0.6, 0.7, 0.8,\n",
       "                                                             0.9]},\n",
       "                   random_state=2020, refit=&#x27;neg_root_mean_squared_error&#x27;,\n",
       "                   scoring=[&#x27;neg_root_mean_squared_error&#x27;,\n",
       "                            &#x27;neg_mean_absolute_error&#x27;,\n",
       "                            &#x27;neg_mean_absolute_percentage_error&#x27;])</pre><b>In a Jupyter environment, please rerun this cell to show the HTML representation or trust the notebook. <br />On GitHub, the HTML representation is unable to render, please try loading this page with nbviewer.org.</b></div><div class=\"sk-container\" hidden><div class=\"sk-item sk-dashed-wrapped\"><div class=\"sk-label-container\"><div class=\"sk-label sk-toggleable\"><input class=\"sk-toggleable__control sk-hidden--visually\" id=\"sk-estimator-id-1\" type=\"checkbox\" ><label for=\"sk-estimator-id-1\" class=\"sk-toggleable__label sk-toggleable__label-arrow\">RandomizedSearchCV</label><div class=\"sk-toggleable__content\"><pre>RandomizedSearchCV(cv=KFold(n_splits=5, random_state=2020, shuffle=True),\n",
       "                   estimator=Pipeline(steps=[(&#x27;preprocessing&#x27;,\n",
       "                                              ColumnTransformer(remainder=&#x27;passthrough&#x27;,\n",
       "                                                                transformers=[(&#x27;One &#x27;\n",
       "                                                                               &#x27;Hot&#x27;,\n",
       "                                                                               OneHotEncoder(drop=&#x27;first&#x27;),\n",
       "                                                                               [&#x27;HallwayType&#x27;,\n",
       "                                                                                &#x27;TimeToSubway&#x27;]),\n",
       "                                                                              (&#x27;binary&#x27;,\n",
       "                                                                               BinaryEncoder(),\n",
       "                                                                               [&#x27;SubwayStation&#x27;])])),\n",
       "                                             (&#x27;model&#x27;,\n",
       "                                              XGBRegressor(base_score=None,\n",
       "                                                           booster=None,\n",
       "                                                           callbacks...\n",
       "                                                             0.007742636826811269,\n",
       "                                                             0.021544346900318832,\n",
       "                                                             0.05994842503189409,\n",
       "                                                             0.1668100537200059,\n",
       "                                                             0.46415888336127775,\n",
       "                                                             1.2915496650148828,\n",
       "                                                             3.593813663804626,\n",
       "                                                             10.0],\n",
       "                                        &#x27;model__subsample&#x27;: [0.2, 0.3, 0.4, 0.5,\n",
       "                                                             0.6, 0.7, 0.8,\n",
       "                                                             0.9]},\n",
       "                   random_state=2020, refit=&#x27;neg_root_mean_squared_error&#x27;,\n",
       "                   scoring=[&#x27;neg_root_mean_squared_error&#x27;,\n",
       "                            &#x27;neg_mean_absolute_error&#x27;,\n",
       "                            &#x27;neg_mean_absolute_percentage_error&#x27;])</pre></div></div></div><div class=\"sk-parallel\"><div class=\"sk-parallel-item\"><div class=\"sk-item\"><div class=\"sk-label-container\"><div class=\"sk-label sk-toggleable\"><input class=\"sk-toggleable__control sk-hidden--visually\" id=\"sk-estimator-id-2\" type=\"checkbox\" ><label for=\"sk-estimator-id-2\" class=\"sk-toggleable__label sk-toggleable__label-arrow\">estimator: Pipeline</label><div class=\"sk-toggleable__content\"><pre>Pipeline(steps=[(&#x27;preprocessing&#x27;,\n",
       "                 ColumnTransformer(remainder=&#x27;passthrough&#x27;,\n",
       "                                   transformers=[(&#x27;One Hot&#x27;,\n",
       "                                                  OneHotEncoder(drop=&#x27;first&#x27;),\n",
       "                                                  [&#x27;HallwayType&#x27;,\n",
       "                                                   &#x27;TimeToSubway&#x27;]),\n",
       "                                                 (&#x27;binary&#x27;, BinaryEncoder(),\n",
       "                                                  [&#x27;SubwayStation&#x27;])])),\n",
       "                (&#x27;model&#x27;,\n",
       "                 XGBRegressor(base_score=None, booster=None, callbacks=None,\n",
       "                              colsample_bylevel=None, colsample_bynode=None,\n",
       "                              colsample_bytree=None, early_stop...\n",
       "                              feature_types=None, gamma=None, gpu_id=None,\n",
       "                              grow_policy=None, importance_type=None,\n",
       "                              interaction_constraints=None, learning_rate=None,\n",
       "                              max_bin=None, max_cat_threshold=None,\n",
       "                              max_cat_to_onehot=None, max_delta_step=None,\n",
       "                              max_depth=None, max_leaves=None,\n",
       "                              min_child_weight=None, missing=nan,\n",
       "                              monotone_constraints=None, n_estimators=100,\n",
       "                              n_jobs=None, num_parallel_tree=None,\n",
       "                              predictor=None, random_state=2020, ...))])</pre></div></div></div><div class=\"sk-serial\"><div class=\"sk-item\"><div class=\"sk-serial\"><div class=\"sk-item sk-dashed-wrapped\"><div class=\"sk-label-container\"><div class=\"sk-label sk-toggleable\"><input class=\"sk-toggleable__control sk-hidden--visually\" id=\"sk-estimator-id-3\" type=\"checkbox\" ><label for=\"sk-estimator-id-3\" class=\"sk-toggleable__label sk-toggleable__label-arrow\">preprocessing: ColumnTransformer</label><div class=\"sk-toggleable__content\"><pre>ColumnTransformer(remainder=&#x27;passthrough&#x27;,\n",
       "                  transformers=[(&#x27;One Hot&#x27;, OneHotEncoder(drop=&#x27;first&#x27;),\n",
       "                                 [&#x27;HallwayType&#x27;, &#x27;TimeToSubway&#x27;]),\n",
       "                                (&#x27;binary&#x27;, BinaryEncoder(), [&#x27;SubwayStation&#x27;])])</pre></div></div></div><div class=\"sk-parallel\"><div class=\"sk-parallel-item\"><div class=\"sk-item\"><div class=\"sk-label-container\"><div class=\"sk-label sk-toggleable\"><input class=\"sk-toggleable__control sk-hidden--visually\" id=\"sk-estimator-id-4\" type=\"checkbox\" ><label for=\"sk-estimator-id-4\" class=\"sk-toggleable__label sk-toggleable__label-arrow\">One Hot</label><div class=\"sk-toggleable__content\"><pre>[&#x27;HallwayType&#x27;, &#x27;TimeToSubway&#x27;]</pre></div></div></div><div class=\"sk-serial\"><div class=\"sk-item\"><div class=\"sk-estimator sk-toggleable\"><input class=\"sk-toggleable__control sk-hidden--visually\" id=\"sk-estimator-id-5\" type=\"checkbox\" ><label for=\"sk-estimator-id-5\" class=\"sk-toggleable__label sk-toggleable__label-arrow\">OneHotEncoder</label><div class=\"sk-toggleable__content\"><pre>OneHotEncoder(drop=&#x27;first&#x27;)</pre></div></div></div></div></div></div><div class=\"sk-parallel-item\"><div class=\"sk-item\"><div class=\"sk-label-container\"><div class=\"sk-label sk-toggleable\"><input class=\"sk-toggleable__control sk-hidden--visually\" id=\"sk-estimator-id-6\" type=\"checkbox\" ><label for=\"sk-estimator-id-6\" class=\"sk-toggleable__label sk-toggleable__label-arrow\">binary</label><div class=\"sk-toggleable__content\"><pre>[&#x27;SubwayStation&#x27;]</pre></div></div></div><div class=\"sk-serial\"><div class=\"sk-item\"><div class=\"sk-estimator sk-toggleable\"><input class=\"sk-toggleable__control sk-hidden--visually\" id=\"sk-estimator-id-7\" type=\"checkbox\" ><label for=\"sk-estimator-id-7\" class=\"sk-toggleable__label sk-toggleable__label-arrow\">BinaryEncoder</label><div class=\"sk-toggleable__content\"><pre>BinaryEncoder()</pre></div></div></div></div></div></div><div class=\"sk-parallel-item\"><div class=\"sk-item\"><div class=\"sk-label-container\"><div class=\"sk-label sk-toggleable\"><input class=\"sk-toggleable__control sk-hidden--visually\" id=\"sk-estimator-id-8\" type=\"checkbox\" ><label for=\"sk-estimator-id-8\" class=\"sk-toggleable__label sk-toggleable__label-arrow\">remainder</label><div class=\"sk-toggleable__content\"><pre>[&#x27;N_FacilitiesNearBy(ETC)&#x27;, &#x27;N_FacilitiesNearBy(PublicOffice)&#x27;, &#x27;N_SchoolNearBy(University)&#x27;, &#x27;N_Parkinglot(Basement)&#x27;, &#x27;YearBuilt&#x27;, &#x27;N_FacilitiesInApt&#x27;, &#x27;Size(sqf)&#x27;]</pre></div></div></div><div class=\"sk-serial\"><div class=\"sk-item\"><div class=\"sk-estimator sk-toggleable\"><input class=\"sk-toggleable__control sk-hidden--visually\" id=\"sk-estimator-id-9\" type=\"checkbox\" ><label for=\"sk-estimator-id-9\" class=\"sk-toggleable__label sk-toggleable__label-arrow\">passthrough</label><div class=\"sk-toggleable__content\"><pre>passthrough</pre></div></div></div></div></div></div></div></div><div class=\"sk-item\"><div class=\"sk-estimator sk-toggleable\"><input class=\"sk-toggleable__control sk-hidden--visually\" id=\"sk-estimator-id-10\" type=\"checkbox\" ><label for=\"sk-estimator-id-10\" class=\"sk-toggleable__label sk-toggleable__label-arrow\">XGBRegressor</label><div class=\"sk-toggleable__content\"><pre>XGBRegressor(base_score=None, booster=None, callbacks=None,\n",
       "             colsample_bylevel=None, colsample_bynode=None,\n",
       "             colsample_bytree=None, early_stopping_rounds=None,\n",
       "             enable_categorical=False, eval_metric=None, feature_types=None,\n",
       "             gamma=None, gpu_id=None, grow_policy=None, importance_type=None,\n",
       "             interaction_constraints=None, learning_rate=None, max_bin=None,\n",
       "             max_cat_threshold=None, max_cat_to_onehot=None,\n",
       "             max_delta_step=None, max_depth=None, max_leaves=None,\n",
       "             min_child_weight=None, missing=nan, monotone_constraints=None,\n",
       "             n_estimators=100, n_jobs=None, num_parallel_tree=None,\n",
       "             predictor=None, random_state=2020, ...)</pre></div></div></div></div></div></div></div></div></div></div></div></div>"
      ],
      "text/plain": [
       "RandomizedSearchCV(cv=KFold(n_splits=5, random_state=2020, shuffle=True),\n",
       "                   estimator=Pipeline(steps=[('preprocessing',\n",
       "                                              ColumnTransformer(remainder='passthrough',\n",
       "                                                                transformers=[('One '\n",
       "                                                                               'Hot',\n",
       "                                                                               OneHotEncoder(drop='first'),\n",
       "                                                                               ['HallwayType',\n",
       "                                                                                'TimeToSubway']),\n",
       "                                                                              ('binary',\n",
       "                                                                               BinaryEncoder(),\n",
       "                                                                               ['SubwayStation'])])),\n",
       "                                             ('model',\n",
       "                                              XGBRegressor(base_score=None,\n",
       "                                                           booster=None,\n",
       "                                                           callbacks...\n",
       "                                                             0.007742636826811269,\n",
       "                                                             0.021544346900318832,\n",
       "                                                             0.05994842503189409,\n",
       "                                                             0.1668100537200059,\n",
       "                                                             0.46415888336127775,\n",
       "                                                             1.2915496650148828,\n",
       "                                                             3.593813663804626,\n",
       "                                                             10.0],\n",
       "                                        'model__subsample': [0.2, 0.3, 0.4, 0.5,\n",
       "                                                             0.6, 0.7, 0.8,\n",
       "                                                             0.9]},\n",
       "                   random_state=2020, refit='neg_root_mean_squared_error',\n",
       "                   scoring=['neg_root_mean_squared_error',\n",
       "                            'neg_mean_absolute_error',\n",
       "                            'neg_mean_absolute_percentage_error'])"
      ]
     },
     "execution_count": 37,
     "metadata": {},
     "output_type": "execute_result"
    }
   ],
   "source": [
    "random_xgb.fit(x_train, y_train)"
   ]
  },
  {
   "cell_type": "code",
   "execution_count": 38,
   "id": "480736c5-f337-4656-91c3-f6bec8f92d50",
   "metadata": {},
   "outputs": [
    {
     "name": "stdout",
     "output_type": "stream",
     "text": [
      "XGBoost\n",
      "Best_score: -46718.02167874489\n",
      "Best_params: {'model__subsample': 0.4, 'model__reg_alpha': 0.1668100537200059, 'model__n_estimators': 140, 'model__max_depth': 3, 'model__learning_rate': 0.11, 'model__gamma': 1, 'model__colsample_bytree': 0.6}\n"
     ]
    }
   ],
   "source": [
    "# Cek skor dan params terbaik\n",
    "print('XGBoost')\n",
    "print('Best_score:', random_xgb.best_score_)\n",
    "print('Best_params:', random_xgb.best_params_)"
   ]
  },
  {
   "cell_type": "code",
   "execution_count": 39,
   "id": "3f5c9cd6-5ebf-4c9c-bcb3-b023b38ab52b",
   "metadata": {},
   "outputs": [
    {
     "data": {
      "text/html": [
       "<div>\n",
       "<style scoped>\n",
       "    .dataframe tbody tr th:only-of-type {\n",
       "        vertical-align: middle;\n",
       "    }\n",
       "\n",
       "    .dataframe tbody tr th {\n",
       "        vertical-align: top;\n",
       "    }\n",
       "\n",
       "    .dataframe thead th {\n",
       "        text-align: right;\n",
       "    }\n",
       "</style>\n",
       "<table border=\"1\" class=\"dataframe\">\n",
       "  <thead>\n",
       "    <tr style=\"text-align: right;\">\n",
       "      <th></th>\n",
       "      <th>R2</th>\n",
       "      <th>MAE</th>\n",
       "      <th>MAPE</th>\n",
       "    </tr>\n",
       "  </thead>\n",
       "  <tbody>\n",
       "    <tr>\n",
       "      <th>XGB</th>\n",
       "      <td>0.814868</td>\n",
       "      <td>36436.113258</td>\n",
       "      <td>0.185532</td>\n",
       "    </tr>\n",
       "  </tbody>\n",
       "</table>\n",
       "</div>"
      ],
      "text/plain": [
       "           R2           MAE      MAPE\n",
       "XGB  0.814868  36436.113258  0.185532"
      ]
     },
     "execution_count": 39,
     "metadata": {},
     "output_type": "execute_result"
    }
   ],
   "source": [
    "model = {'XGB': XGBRegressor(random_state=2020)}\n",
    "\n",
    "# Define model terhadap estimator terbaik\n",
    "xgb_tuning = random_xgb.best_estimator_\n",
    "\n",
    "# Fitting model\n",
    "xgb_tuning.fit(x_train, y_train)\n",
    "\n",
    "# Predict test set\n",
    "y_pred_xgb_tuning = xgb_tuning.predict(x_test)\n",
    "\n",
    "# Simpan nilai metrics RMSE, MAE & MAPE setelah tuning\n",
    "rmse_xgb_tuning = r2_score(y_test, y_pred_xgb_tuning)\n",
    "mae_xgb_tuning = mean_absolute_error(y_test, y_pred_xgb_tuning)\n",
    "mape_xgb_tuning = mean_absolute_percentage_error(y_test, y_pred_xgb_tuning)\n",
    "\n",
    "score_after_tuning = pd.DataFrame({'R2': rmse_xgb_tuning, 'MAE': mae_xgb_tuning, 'MAPE': mape_xgb_tuning}, index=model.keys())\n",
    "score_after_tuning"
   ]
  },
  {
   "cell_type": "markdown",
   "id": "8b02cc43-7cd3-4867-8099-7227faa8f083",
   "metadata": {},
   "source": [
    "**Before vs After Tuning**"
   ]
  },
  {
   "cell_type": "code",
   "execution_count": 40,
   "id": "41c7b857-37c2-4eec-8ba6-7aabc78a1a3f",
   "metadata": {},
   "outputs": [
    {
     "data": {
      "text/html": [
       "<div>\n",
       "<style scoped>\n",
       "    .dataframe tbody tr th:only-of-type {\n",
       "        vertical-align: middle;\n",
       "    }\n",
       "\n",
       "    .dataframe tbody tr th {\n",
       "        vertical-align: top;\n",
       "    }\n",
       "\n",
       "    .dataframe thead th {\n",
       "        text-align: right;\n",
       "    }\n",
       "</style>\n",
       "<table border=\"1\" class=\"dataframe\">\n",
       "  <thead>\n",
       "    <tr style=\"text-align: right;\">\n",
       "      <th></th>\n",
       "      <th>R2</th>\n",
       "      <th>MAE</th>\n",
       "      <th>MAPE</th>\n",
       "    </tr>\n",
       "  </thead>\n",
       "  <tbody>\n",
       "    <tr>\n",
       "      <th>XGB</th>\n",
       "      <td>0.81204</td>\n",
       "      <td>36696.608445</td>\n",
       "      <td>0.186064</td>\n",
       "    </tr>\n",
       "  </tbody>\n",
       "</table>\n",
       "</div>"
      ],
      "text/plain": [
       "          R2           MAE      MAPE\n",
       "XGB  0.81204  36696.608445  0.186064"
      ]
     },
     "execution_count": 40,
     "metadata": {},
     "output_type": "execute_result"
    }
   ],
   "source": [
    "pd.DataFrame(score_before_tuning.loc['XGB']).T"
   ]
  },
  {
   "cell_type": "code",
   "execution_count": 41,
   "id": "b499d78d-ff00-447f-8b83-705ac2f11abf",
   "metadata": {},
   "outputs": [
    {
     "data": {
      "text/html": [
       "<div>\n",
       "<style scoped>\n",
       "    .dataframe tbody tr th:only-of-type {\n",
       "        vertical-align: middle;\n",
       "    }\n",
       "\n",
       "    .dataframe tbody tr th {\n",
       "        vertical-align: top;\n",
       "    }\n",
       "\n",
       "    .dataframe thead th {\n",
       "        text-align: right;\n",
       "    }\n",
       "</style>\n",
       "<table border=\"1\" class=\"dataframe\">\n",
       "  <thead>\n",
       "    <tr style=\"text-align: right;\">\n",
       "      <th></th>\n",
       "      <th>R2</th>\n",
       "      <th>MAE</th>\n",
       "      <th>MAPE</th>\n",
       "    </tr>\n",
       "  </thead>\n",
       "  <tbody>\n",
       "    <tr>\n",
       "      <th>XGB</th>\n",
       "      <td>0.814868</td>\n",
       "      <td>36436.113258</td>\n",
       "      <td>0.185532</td>\n",
       "    </tr>\n",
       "  </tbody>\n",
       "</table>\n",
       "</div>"
      ],
      "text/plain": [
       "           R2           MAE      MAPE\n",
       "XGB  0.814868  36436.113258  0.185532"
      ]
     },
     "execution_count": 41,
     "metadata": {},
     "output_type": "execute_result"
    }
   ],
   "source": [
    "score_after_tuning"
   ]
  },
  {
   "cell_type": "markdown",
   "id": "2502f9c3-dd8d-4fd6-83b3-8546388254b8",
   "metadata": {},
   "source": [
    "Dapat dilihat bahwa model mengalami performa sedikit lebih baik setelah melakukan tuning.\n",
    "- R2 mengamali peningkatan sedikit dari 0.812 menjadi 0.814\n",
    "- MAE dan MAPE mengalami penurunan sedikit"
   ]
  },
  {
   "cell_type": "code",
   "execution_count": 42,
   "id": "bb697132-5c5c-40ac-af57-9e776039e038",
   "metadata": {},
   "outputs": [
    {
     "data": {
      "image/png": "[encoded data removed]",
      "text/plain": [
       "<Figure size 1008x576 with 1 Axes>"
      ]
     },
     "metadata": {
      "needs_background": "light"
     },
     "output_type": "display_data"
    }
   ],
   "source": [
    "plt.figure(figsize=(14, 8))\n",
    "plot = sns.scatterplot(x=y_test, y=y_pred_xgb_tuning).set(title='Actual vs. Prediction Price', \n",
    "                                               xlabel='Actual Price', \n",
    "                                               ylabel='Predicted Price');"
   ]
  },
  {
   "cell_type": "markdown",
   "id": "9f65350c-0eda-4d29-8269-b7942e0f6f8e",
   "metadata": {},
   "source": [
    "Diatas adalah scatterplot harga prediksi dengan harga sesungguhnya. Dapat dilihat dari grafik diatas bahwa model sudah cukup baik untuk memprediksi apartemen dengan range harga yang murah karena dilihat dari titik data yang padat dari range harga 100000-300000, tetapi model mengalami pengurangan performa untuk memprediksi apartemen dengan harga yang mahal yaitu sekitar 400000-500000 dapat dilihat karena titik data yang makin tersebar. Dapat disimpulkan bahwa limitasi dari model adalah tidak terlalu baik untuk memprediksi apartemen dengan harga mahal"
   ]
  },
  {
   "cell_type": "markdown",
   "id": "e0f23d6a-e590-4c22-845e-158a344e5bf0",
   "metadata": {},
   "source": [
    "**Feature Importance**"
   ]
  },
  {
   "cell_type": "code",
   "execution_count": 43,
   "id": "bf59e410-bfd7-4832-a5c8-8ed4e7affc2b",
   "metadata": {},
   "outputs": [
    {
     "name": "stderr",
     "output_type": "stream",
     "text": [
      "C:\\Users\\HP\\anaconda3\\lib\\site-packages\\sklearn\\utils\\deprecation.py:87: FutureWarning: Function get_feature_names is deprecated; get_feature_names is deprecated in 1.0 and will be removed in 1.2. Please use get_feature_names_out instead.\n",
      "  warnings.warn(msg, category=FutureWarning)\n"
     ]
    },
    {
     "data": {
      "image/png": "[encoded data removed]",
      "text/plain": [
       "<Figure size 720x432 with 1 Axes>"
      ]
     },
     "metadata": {
      "needs_background": "light"
     },
     "output_type": "display_data"
    }
   ],
   "source": [
    "plt.figure(figsize=(10,6))\n",
    "feature_imp = pd.Series(xgb_tuning['model'].feature_importances_, transformer.get_feature_names()).sort_values(ascending = False).head()\n",
    "feature_imp.plot(kind='barh', title='Feature Importances');"
   ]
  },
  {
   "cell_type": "markdown",
   "id": "3a5c582d-0848-4af0-91a1-6506d511820a",
   "metadata": {},
   "source": [
    "Diatas adalah fitur-fitur yang paling memengaruhi harga dari apartemen."
   ]
  },
  {
   "cell_type": "markdown",
   "id": "9dd1dd90-d9fe-4668-b42c-9b844718afaa",
   "metadata": {},
   "source": [
    "# 5. Conclusion"
   ]
  },
  {
   "cell_type": "markdown",
   "id": "ed678ae0-655a-477c-9128-51422d6a42b6",
   "metadata": {},
   "source": [
    "Berdasarkan model yang telah dibuat dapat diambil beberapa kesimpulan:\n",
    "- Model machine learning paling baik untuk dataset ini adalah XGBoost Regressor\n",
    "- Model memiliki R2 score atau nilai rsquared sebesar 0.81 artinya model dapat menjelaskan 81% dari variansi data.\n",
    "- Model memiliki MAPE score sebesar 0.18, artinya harga prediksi dapat lebih besar atau lebih kecil 18% dari harga sebenarnya\n",
    "- Model memiliki MAE score atau residual sebesar 36436 USD, karena range harga apartemen berkisar dari 30000 USD hingga 580000 USD maka residual tersebut dapat dianggap wajar dan tidak terlalu besar.\n",
    "- Model tidak terlalu baik memprediksi apartemen dengan harga mahal, tetapi sudah cukup baik memprediksi harga apartemen murah.\n",
    "- Model tidak mempertimbangkan inflasi harga.\n",
    "- Fitur paling penting untuk memprediksi harga apartemen adalah Hallway type dan size\n",
    "- Model machine learning dapat memprediksi harga apartemen dengan cepat dan dapat menghemat waktu dan tenaga untuk melakukan prediksi harga dibandingkan dengan melakukan research tiap apartemen satu persatu."
   ]
  },
  {
   "cell_type": "markdown",
   "id": "cde04ee4-3b24-4606-9ebc-547bb3ecc7fa",
   "metadata": {},
   "source": [
    "# 6. Recomendation\n",
    "Untuk memperbaiki model yang dapat dilakukan adalah:\n",
    "- Mencoba menggunakan model lain seperti Neural Network Regression\n",
    "- Menambahkan fitur-fitur lain yang dapat memengaruhi harga apartemen, seperti waktu untuk mencapai halte bis terdekat, lantai apartemen, dan jumlah SD,SMP,SMA di dekat apartemen (karena ada fitur jumlah universitas dekat apartemen).\n",
    "- Menambahkan data baru (update)\n",
    "- Menggunakan Grid search saat hyperparametric tuning \n",
    "- Melakukan hyperparametric tuning untuk model lain yang tidak digunakan (DT,KNN,Linear Regression, Random Forrest) dan membandingkan hasilnya\n",
    "\n"
   ]
  },
  {
   "cell_type": "raw",
   "id": "95665a81-e873-449c-bddf-710124d84a66",
   "metadata": {},
   "source": [
    "best_model = random_xgb.best_estimator_\n",
    "best_model.fit(x,y)"
   ]
  },
  {
   "cell_type": "raw",
   "id": "6a75f219-8e2d-4018-8146-dd27a017c3dd",
   "metadata": {},
   "source": [
    "import pickle \n",
    "import joblib\n",
    "pickle.dump(best_model, open('finalxgb.sav','wb'))"
   ]
  },
  {
   "cell_type": "code",
   "execution_count": null,
   "id": "4b593ed7-79d6-4e38-b0c9-3a45ec4878e9",
   "metadata": {},
   "outputs": [],
   "source": []
  }
 ],
 "metadata": {
  "kernelspec": {
   "display_name": "Python 3 (ipykernel)",
   "language": "python",
   "name": "python3"
  },
  "language_info": {
   "codemirror_mode": {
    "name": "ipython",
    "version": 3
   },
   "file_extension": ".py",
   "mimetype": "text/x-python",
   "name": "python",
   "nbconvert_exporter": "python",
   "pygments_lexer": "ipython3",
   "version": "3.9.12"
  }
 },
 "nbformat": 4,
 "nbformat_minor": 5
}
